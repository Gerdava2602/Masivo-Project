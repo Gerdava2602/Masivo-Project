{
  "nbformat": 4,
  "nbformat_minor": 5,
  "metadata": {
    "colab": {
      "name": "Cleaning, EDA and merging.ipynb",
      "provenance": [],
      "collapsed_sections": [
        "increased-reviewer",
        "EsxG7jIe0Zey",
        "demographic-madagascar",
        "egyptian-bridal",
        "incorporated-instruction",
        "ranking-backup",
        "hIOlTvEK8uYZ",
        "arctic-drama",
        "advised-heading",
        "tTMUrfdGxOJS",
        "aH_kI991yixN",
        "ZX2jiH-ixi0I",
        "mwOz2yhKxrtS",
        "uuN6simNyDJL",
        "Y3TnQQLuyaW8"
      ]
    },
    "kernelspec": {
      "name": "python3",
      "display_name": "Python 3.7.4 64-bit ('base': conda)"
    },
    "language_info": {
      "name": "python",
      "version": "3.7.4",
      "mimetype": "text/x-python",
      "codemirror_mode": {
        "name": "ipython",
        "version": 3
      },
      "pygments_lexer": "ipython3",
      "nbconvert_exporter": "python",
      "file_extension": ".py"
    },
    "interpreter": {
      "hash": "9d3bae0a0f66551680ef8a166f6b92cc2774d5d7901f027deb7bb883ed06d5ae"
    }
  },
  "cells": [
    {
      "cell_type": "markdown",
      "metadata": {
        "id": "M7XJIjxI5c9i"
      },
      "source": [
        "# IMPORTANT: DUE TO THE NATURE OF THE PROJECT ROUTES FROM DIFFERENT SOURCES ARE USED FOR THE DATA LOADING"
      ],
      "id": "M7XJIjxI5c9i"
    },
    {
      "cell_type": "markdown",
      "metadata": {
        "id": "local-possible"
      },
      "source": [
        "# Data Wrangling, Cleaning and EDA"
      ],
      "id": "local-possible"
    },
    {
      "cell_type": "markdown",
      "metadata": {
        "id": "XK9N1dZqWmKJ"
      },
      "source": [
        "### First we mount the drive where all the information is located"
      ],
      "id": "XK9N1dZqWmKJ"
    },
    {
      "cell_type": "code",
      "metadata": {
        "id": "9zKpNaBkfHNZ",
        "colab": {
          "base_uri": "https://localhost:8080/"
        },
        "outputId": "c2256252-6f9e-4635-c42f-4f2981401a94"
      },
      "source": [
        "from google.colab import drive\n",
        "\n",
        "drive.mount('/content/gdrive')"
      ],
      "id": "9zKpNaBkfHNZ",
      "execution_count": null,
      "outputs": [
        {
          "output_type": "stream",
          "text": [
            "Mounted at /content/gdrive\n"
          ],
          "name": "stdout"
        }
      ]
    },
    {
      "cell_type": "markdown",
      "metadata": {
        "id": "7xTlKpplWtwO"
      },
      "source": [
        "### Libraries used"
      ],
      "id": "7xTlKpplWtwO"
    },
    {
      "cell_type": "code",
      "metadata": {
        "colab": {
          "base_uri": "https://localhost:8080/"
        },
        "id": "minute-international",
        "outputId": "5db3c6f2-5535-4a19-ecaa-0484697867ff"
      },
      "source": [
        "!pip install pingouin\n",
        "import pingouin\n",
        "import pandas as pd\n",
        "import seaborn as sns\n",
        "import numpy as np\n",
        "import matplotlib.pyplot as plt\n",
        "import re\n",
        "import pingouin\n",
        "import pandas.api.types as ptypes\n",
        "import plotly.express as px\n",
        "pd.set_option(\"display.max_roWs\", 30)\n",
        "pd.set_option(\"display.max_columns\", None)\n"
      ],
      "id": "minute-international",
      "execution_count": null,
      "outputs": [
        {
          "output_type": "stream",
          "text": [
            "Collecting pingouin\n",
            "  Downloading pingouin-0.4.0.tar.gz (206 kB)\n",
            "\u001b[?25l\r\u001b[K     |█▋                              | 10 kB 29.9 MB/s eta 0:00:01\r\u001b[K     |███▏                            | 20 kB 27.8 MB/s eta 0:00:01\r\u001b[K     |████▊                           | 30 kB 18.5 MB/s eta 0:00:01\r\u001b[K     |██████▍                         | 40 kB 15.7 MB/s eta 0:00:01\r\u001b[K     |████████                        | 51 kB 8.0 MB/s eta 0:00:01\r\u001b[K     |█████████▌                      | 61 kB 7.7 MB/s eta 0:00:01\r\u001b[K     |███████████                     | 71 kB 8.0 MB/s eta 0:00:01\r\u001b[K     |████████████▊                   | 81 kB 8.9 MB/s eta 0:00:01\r\u001b[K     |██████████████▎                 | 92 kB 9.3 MB/s eta 0:00:01\r\u001b[K     |███████████████▉                | 102 kB 7.5 MB/s eta 0:00:01\r\u001b[K     |█████████████████▍              | 112 kB 7.5 MB/s eta 0:00:01\r\u001b[K     |███████████████████             | 122 kB 7.5 MB/s eta 0:00:01\r\u001b[K     |████████████████████▋           | 133 kB 7.5 MB/s eta 0:00:01\r\u001b[K     |██████████████████████▏         | 143 kB 7.5 MB/s eta 0:00:01\r\u001b[K     |███████████████████████▊        | 153 kB 7.5 MB/s eta 0:00:01\r\u001b[K     |█████████████████████████▍      | 163 kB 7.5 MB/s eta 0:00:01\r\u001b[K     |███████████████████████████     | 174 kB 7.5 MB/s eta 0:00:01\r\u001b[K     |████████████████████████████▌   | 184 kB 7.5 MB/s eta 0:00:01\r\u001b[K     |██████████████████████████████  | 194 kB 7.5 MB/s eta 0:00:01\r\u001b[K     |███████████████████████████████▊| 204 kB 7.5 MB/s eta 0:00:01\r\u001b[K     |████████████████████████████████| 206 kB 7.5 MB/s \n",
            "\u001b[?25hRequirement already satisfied: numpy>=1.19 in /usr/local/lib/python3.7/dist-packages (from pingouin) (1.19.5)\n",
            "Collecting scipy>=1.7\n",
            "  Downloading scipy-1.7.1-cp37-cp37m-manylinux_2_5_x86_64.manylinux1_x86_64.whl (28.5 MB)\n",
            "\u001b[K     |████████████████████████████████| 28.5 MB 47 kB/s \n",
            "\u001b[?25hRequirement already satisfied: pandas>=1.0 in /usr/local/lib/python3.7/dist-packages (from pingouin) (1.1.5)\n",
            "Requirement already satisfied: matplotlib>=3.0.2 in /usr/local/lib/python3.7/dist-packages (from pingouin) (3.2.2)\n",
            "Requirement already satisfied: seaborn>=0.9.0 in /usr/local/lib/python3.7/dist-packages (from pingouin) (0.11.1)\n",
            "Collecting statsmodels>=0.12.0\n",
            "  Downloading statsmodels-0.12.2-cp37-cp37m-manylinux1_x86_64.whl (9.5 MB)\n",
            "\u001b[K     |████████████████████████████████| 9.5 MB 13.4 MB/s \n",
            "\u001b[?25hRequirement already satisfied: scikit-learn in /usr/local/lib/python3.7/dist-packages (from pingouin) (0.22.2.post1)\n",
            "Collecting pandas_flavor>=0.2.0\n",
            "  Downloading pandas_flavor-0.2.0-py2.py3-none-any.whl (6.6 kB)\n",
            "Collecting outdated\n",
            "  Downloading outdated-0.2.1-py3-none-any.whl (7.5 kB)\n",
            "Requirement already satisfied: tabulate in /usr/local/lib/python3.7/dist-packages (from pingouin) (0.8.9)\n",
            "Requirement already satisfied: kiwisolver>=1.0.1 in /usr/local/lib/python3.7/dist-packages (from matplotlib>=3.0.2->pingouin) (1.3.1)\n",
            "Requirement already satisfied: cycler>=0.10 in /usr/local/lib/python3.7/dist-packages (from matplotlib>=3.0.2->pingouin) (0.10.0)\n",
            "Requirement already satisfied: python-dateutil>=2.1 in /usr/local/lib/python3.7/dist-packages (from matplotlib>=3.0.2->pingouin) (2.8.2)\n",
            "Requirement already satisfied: pyparsing!=2.0.4,!=2.1.2,!=2.1.6,>=2.0.1 in /usr/local/lib/python3.7/dist-packages (from matplotlib>=3.0.2->pingouin) (2.4.7)\n",
            "Requirement already satisfied: six in /usr/local/lib/python3.7/dist-packages (from cycler>=0.10->matplotlib>=3.0.2->pingouin) (1.15.0)\n",
            "Requirement already satisfied: pytz>=2017.2 in /usr/local/lib/python3.7/dist-packages (from pandas>=1.0->pingouin) (2018.9)\n",
            "Requirement already satisfied: xarray in /usr/local/lib/python3.7/dist-packages (from pandas_flavor>=0.2.0->pingouin) (0.18.2)\n",
            "Requirement already satisfied: patsy>=0.5 in /usr/local/lib/python3.7/dist-packages (from statsmodels>=0.12.0->pingouin) (0.5.1)\n",
            "Requirement already satisfied: requests in /usr/local/lib/python3.7/dist-packages (from outdated->pingouin) (2.23.0)\n",
            "Collecting littleutils\n",
            "  Downloading littleutils-0.2.2.tar.gz (6.6 kB)\n",
            "Requirement already satisfied: chardet<4,>=3.0.2 in /usr/local/lib/python3.7/dist-packages (from requests->outdated->pingouin) (3.0.4)\n",
            "Requirement already satisfied: urllib3!=1.25.0,!=1.25.1,<1.26,>=1.21.1 in /usr/local/lib/python3.7/dist-packages (from requests->outdated->pingouin) (1.24.3)\n",
            "Requirement already satisfied: idna<3,>=2.5 in /usr/local/lib/python3.7/dist-packages (from requests->outdated->pingouin) (2.10)\n",
            "Requirement already satisfied: certifi>=2017.4.17 in /usr/local/lib/python3.7/dist-packages (from requests->outdated->pingouin) (2021.5.30)\n",
            "Requirement already satisfied: joblib>=0.11 in /usr/local/lib/python3.7/dist-packages (from scikit-learn->pingouin) (1.0.1)\n",
            "Requirement already satisfied: setuptools>=40.4 in /usr/local/lib/python3.7/dist-packages (from xarray->pandas_flavor>=0.2.0->pingouin) (57.2.0)\n",
            "Building wheels for collected packages: pingouin, littleutils\n",
            "  Building wheel for pingouin (setup.py) ... \u001b[?25l\u001b[?25hdone\n",
            "  Created wheel for pingouin: filename=pingouin-0.4.0-py3-none-any.whl size=206904 sha256=c49520f113bbae52062e22639ae3c9472a88e772e93f730d2cc83b3d6780dc58\n",
            "  Stored in directory: /root/.cache/pip/wheels/8a/9d/c4/11677c2c4d5c0df9d1d4aa61528d868bb96e13b898e3f51c95\n",
            "  Building wheel for littleutils (setup.py) ... \u001b[?25l\u001b[?25hdone\n",
            "  Created wheel for littleutils: filename=littleutils-0.2.2-py3-none-any.whl size=7048 sha256=1f4068f249c8973c6af089c4429a465be4566ff49f1aaddc124c4989911fb5e9\n",
            "  Stored in directory: /root/.cache/pip/wheels/d6/64/cd/32819b511a488e4993f2fab909a95330289c3f4e0f6ef4676d\n",
            "Successfully built pingouin littleutils\n",
            "Installing collected packages: scipy, littleutils, statsmodels, pandas-flavor, outdated, pingouin\n",
            "  Attempting uninstall: scipy\n",
            "    Found existing installation: scipy 1.4.1\n",
            "    Uninstalling scipy-1.4.1:\n",
            "      Successfully uninstalled scipy-1.4.1\n",
            "  Attempting uninstall: statsmodels\n",
            "    Found existing installation: statsmodels 0.10.2\n",
            "    Uninstalling statsmodels-0.10.2:\n",
            "      Successfully uninstalled statsmodels-0.10.2\n",
            "\u001b[31mERROR: pip's dependency resolver does not currently take into account all the packages that are installed. This behaviour is the source of the following dependency conflicts.\n",
            "albumentations 0.1.12 requires imgaug<0.2.7,>=0.2.5, but you have imgaug 0.2.9 which is incompatible.\u001b[0m\n",
            "Successfully installed littleutils-0.2.2 outdated-0.2.1 pandas-flavor-0.2.0 pingouin-0.4.0 scipy-1.7.1 statsmodels-0.12.2\n"
          ],
          "name": "stdout"
        }
      ]
    },
    {
      "cell_type": "markdown",
      "metadata": {
        "id": "increased-reviewer"
      },
      "source": [
        "## Process for \"Tabla Conductor Logueado\""
      ],
      "id": "increased-reviewer"
    },
    {
      "cell_type": "markdown",
      "metadata": {
        "id": "hEr_NP1hr6UH"
      },
      "source": [
        "### Data loading"
      ],
      "id": "hEr_NP1hr6UH"
    },
    {
      "cell_type": "code",
      "metadata": {
        "id": "downtown-inside"
      },
      "source": [
        "lc = pd.read_csv('/content/gdrive/MyDrive/data/Masivo_capital_1_conductor_logueado/logueo_conductores.csv', sep=';', encoding='latin-1')"
      ],
      "id": "downtown-inside",
      "execution_count": null,
      "outputs": []
    },
    {
      "cell_type": "markdown",
      "metadata": {
        "id": "Mu_FhzMSr-Qw"
      },
      "source": [
        "### Cleaning"
      ],
      "id": "Mu_FhzMSr-Qw"
    },
    {
      "cell_type": "markdown",
      "metadata": {
        "id": "LCYZvk1YsFvM"
      },
      "source": [
        "We dropped the unnecesary columns "
      ],
      "id": "LCYZvk1YsFvM"
    },
    {
      "cell_type": "code",
      "metadata": {
        "id": "Jl4rcG6QsBMY"
      },
      "source": [
        "clean_columns = ['textbox2','Textbox1','textbox4','textbox6','textbox7',\n",
        "                 'textbox8','textbox9','textbox10','textbox11','textbox12']\n",
        "lc2 = lc.drop(columns = clean_columns)"
      ],
      "id": "Jl4rcG6QsBMY",
      "execution_count": null,
      "outputs": []
    },
    {
      "cell_type": "markdown",
      "metadata": {
        "id": "ciaL8yxLsO3w"
      },
      "source": [
        "Renamed the columns"
      ],
      "id": "ciaL8yxLsO3w"
    },
    {
      "cell_type": "code",
      "metadata": {
        "id": "2yocKk7isR-e"
      },
      "source": [
        "lc2 = lc2.rename(columns = {'NombreCond':'Nombre_conductor',\n",
        "                            'Operador':'Concesión',\n",
        "                            'Tiempo2':'T_log_semana',\n",
        "                            'ServicioCond':'Servicio_asignado(?)',\n",
        "                            'Servicio':'Servicio_bus_asignado',\n",
        "                            'Etiqueta':'ID_vehiculo',\n",
        "                            'Login':'H_inicio',\n",
        "                            'Logout':'H_fin',\n",
        "                            'Tiempo':'T_Log'})\n",
        "\n",
        "lc2.head()"
      ],
      "id": "2yocKk7isR-e",
      "execution_count": null,
      "outputs": []
    },
    {
      "cell_type": "markdown",
      "metadata": {
        "id": "DBwnRsdyi5Na"
      },
      "source": [
        "Then, we extracted the relevant information (Created a column for the code and name of the conductor)"
      ],
      "id": "DBwnRsdyi5Na"
    },
    {
      "cell_type": "code",
      "metadata": {
        "id": "3qWJN8KRix-p"
      },
      "source": [
        "split_name = lc2.Nombre_conductor.str.split(']', expand=True)\n",
        "split_name.columns = ['Codigo_conductor','Nombre_conductor_2']\n",
        "lc3 = pd.concat([split_name,lc2],axis = 1)\n",
        "lc3 = lc3.drop(columns = 'Nombre_conductor')\n",
        "lc3 = lc3.replace('\\[','',regex=True).astype(str)\n",
        "lc3"
      ],
      "id": "3qWJN8KRix-p",
      "execution_count": null,
      "outputs": []
    },
    {
      "cell_type": "markdown",
      "metadata": {
        "id": "zIRcrTb5jNUc"
      },
      "source": [
        "### Type Casting"
      ],
      "id": "zIRcrTb5jNUc"
    },
    {
      "cell_type": "markdown",
      "metadata": {
        "id": "wyQpMJTvjcDa"
      },
      "source": [
        "#### Strings"
      ],
      "id": "wyQpMJTvjcDa"
    },
    {
      "cell_type": "code",
      "metadata": {
        "id": "wvxF40E2jVta"
      },
      "source": [
        "lc3['Nombre_conductor_2'] = lc3['Nombre_conductor_2'].astype('string')"
      ],
      "id": "wvxF40E2jVta",
      "execution_count": null,
      "outputs": []
    },
    {
      "cell_type": "markdown",
      "metadata": {
        "id": "6XHrV1-rje4_"
      },
      "source": [
        "#### Dates"
      ],
      "id": "6XHrV1-rje4_"
    },
    {
      "cell_type": "code",
      "metadata": {
        "id": "8-n418bUjYV0"
      },
      "source": [
        "lc3['Fecha'] = pd.to_datetime(lc3['Fecha'])\n",
        "lc3['T_Log'] = pd.to_datetime(lc3['T_Log'])\n",
        "lc3.head()"
      ],
      "id": "8-n418bUjYV0",
      "execution_count": null,
      "outputs": []
    },
    {
      "cell_type": "markdown",
      "metadata": {
        "id": "YPybMIswjoQ6"
      },
      "source": [
        "Dropping irrelevant and inaccurate information"
      ],
      "id": "YPybMIswjoQ6"
    },
    {
      "cell_type": "code",
      "metadata": {
        "id": "VYloaIkrjnhZ"
      },
      "source": [
        "lc3.drop(lc3.loc[lc3['Fecha'] >= '30/04/2021'].index, inplace =True)\n",
        "lc3"
      ],
      "id": "VYloaIkrjnhZ",
      "execution_count": null,
      "outputs": []
    },
    {
      "cell_type": "code",
      "metadata": {
        "id": "4N7rEvmrkD0e"
      },
      "source": [
        "lc3['T_log (h)'] = lc3['T_Log'].dt.hour + (lc3['T_Log'].dt.minute)/60\n",
        "lc3.head()"
      ],
      "id": "4N7rEvmrkD0e",
      "execution_count": null,
      "outputs": []
    },
    {
      "cell_type": "markdown",
      "metadata": {
        "id": "RBOpfio3kMGm"
      },
      "source": [
        "#### Augmentation"
      ],
      "id": "RBOpfio3kMGm"
    },
    {
      "cell_type": "code",
      "metadata": {
        "id": "st1PFWWbkLKp"
      },
      "source": [
        "lc3['dia_semana'] = lc3['Fecha'].dt.weekday\n",
        "lc3.head()"
      ],
      "id": "st1PFWWbkLKp",
      "execution_count": null,
      "outputs": []
    },
    {
      "cell_type": "markdown",
      "metadata": {
        "id": "KnklFP0UkRHW"
      },
      "source": [
        "### Analysis"
      ],
      "id": "KnklFP0UkRHW"
    },
    {
      "cell_type": "markdown",
      "metadata": {
        "id": "4j7SqHYVkTTg"
      },
      "source": [
        "#### **Total hours logged by week day**"
      ],
      "id": "4j7SqHYVkTTg"
    },
    {
      "cell_type": "code",
      "metadata": {
        "id": "8Y35Z4cvkhkR"
      },
      "source": [
        "day_week = range(1,8)\n",
        "plt.bar(day_week, results['T_log (h)'])\n",
        "plt.xticks(day_week)\n",
        "plt.ylabel('Total time logged (h)')\n",
        "plt.xlabel('Weekday')\n",
        "plt.title('Total hours logged by week day')\n",
        "plt.savefig(\"Total hours logged by week day_1.jpg\")"
      ],
      "id": "8Y35Z4cvkhkR",
      "execution_count": null,
      "outputs": []
    },
    {
      "cell_type": "code",
      "metadata": {
        "id": "oTS4pDk7kllL"
      },
      "source": [
        "avg_time_log = lc3.groupby('dia_semana').mean()\n",
        "avg_time_log"
      ],
      "id": "oTS4pDk7kllL",
      "execution_count": null,
      "outputs": []
    },
    {
      "cell_type": "markdown",
      "metadata": {
        "id": "vyNgqDzmki4_"
      },
      "source": [
        "#### **Average time logged per week day by each session**"
      ],
      "id": "vyNgqDzmki4_"
    },
    {
      "cell_type": "code",
      "metadata": {
        "id": "SwSauTkbkro2"
      },
      "source": [
        "day_week = range(1,8)\n",
        "plt.bar(day_week, avg_time_log['T_log (h)'])\n",
        "plt.xticks(day_week)\n",
        "plt.ylabel('Average time logged (h)')\n",
        "plt.xlabel('Weekday')"
      ],
      "id": "SwSauTkbkro2",
      "execution_count": null,
      "outputs": []
    },
    {
      "cell_type": "code",
      "metadata": {
        "id": "I0ZLrWr4ksy3"
      },
      "source": [
        "time_log_day = lc3.groupby('Fecha').sum()\n",
        "time_log_day"
      ],
      "id": "I0ZLrWr4ksy3",
      "execution_count": null,
      "outputs": []
    },
    {
      "cell_type": "code",
      "metadata": {
        "id": "A8NF2UtMkvKb"
      },
      "source": [
        "mean_time_log_day = lc3.groupby('Fecha').mean()\n",
        "mean_time_log_day"
      ],
      "id": "A8NF2UtMkvKb",
      "execution_count": null,
      "outputs": []
    },
    {
      "cell_type": "markdown",
      "metadata": {
        "id": "TxJVhwyqkxZC"
      },
      "source": [
        "#### **Average time logged per day by each session**"
      ],
      "id": "TxJVhwyqkxZC"
    },
    {
      "cell_type": "code",
      "metadata": {
        "id": "g5Ia0y0hkzMF"
      },
      "source": [
        "day_month = range(1,20)\n",
        "plt.bar(day_month, mean_time_log_day['T_log (h)'])\n",
        "plt.xticks(day_month)\n",
        "plt.ylabel('Average time logged (h)')\n",
        "plt.xlabel('Day')\n",
        "plt.title('Average time logged per day by each session')\n",
        "plt.savefig(\"Average time logged per day by each session.jpg\")"
      ],
      "id": "g5Ia0y0hkzMF",
      "execution_count": null,
      "outputs": []
    },
    {
      "cell_type": "markdown",
      "metadata": {
        "id": "NZaheNcak1IJ"
      },
      "source": [
        "#### **Total time logged per day**"
      ],
      "id": "NZaheNcak1IJ"
    },
    {
      "cell_type": "code",
      "metadata": {
        "id": "uAw7-RoXk5rD"
      },
      "source": [
        "day_month = range(1,20)\n",
        "plt.bar(day_month, time_log_day['T_log (h)'])\n",
        "plt.xticks(day_month)\n",
        "plt.ylabel('Average time logged (h)')\n",
        "plt.xlabel('day')\n",
        "plt.title('Total time logged per day')\n",
        "plt.savefig(\"Total time logged per day_2.jpg\")"
      ],
      "id": "uAw7-RoXk5rD",
      "execution_count": null,
      "outputs": []
    },
    {
      "cell_type": "code",
      "metadata": {
        "id": "hnuTPqMEk7Zn"
      },
      "source": [
        "mean_time_log_day_2 = lc3.groupby('Fecha').count()\n",
        "mean_time_log_day_2"
      ],
      "id": "hnuTPqMEk7Zn",
      "execution_count": null,
      "outputs": []
    },
    {
      "cell_type": "code",
      "metadata": {
        "id": "fm570S6bk-oT"
      },
      "source": [
        "mean_time_log_day_3 = lc3.groupby('Fecha').sum()\n",
        "mean_time_log_day_3"
      ],
      "id": "fm570S6bk-oT",
      "execution_count": null,
      "outputs": []
    },
    {
      "cell_type": "markdown",
      "metadata": {
        "id": "FOiMlwBIk_vn"
      },
      "source": [
        "#### **Average time logged by day through the month**"
      ],
      "id": "FOiMlwBIk_vn"
    },
    {
      "cell_type": "code",
      "metadata": {
        "id": "eh-5Be2blUIi"
      },
      "source": [
        "day_month = range(1,20)\n",
        "plt.bar(day_month, mean_time_log_day_2['T_log (h)'])\n",
        "plt.xticks(day_month)\n",
        "plt.ylabel('Average time logged (h)')\n",
        "plt.xlabel('day')\n",
        "plt.savefig(\"Correlaciones Pearson.jpg\")"
      ],
      "id": "eh-5Be2blUIi",
      "execution_count": null,
      "outputs": []
    },
    {
      "cell_type": "markdown",
      "metadata": {
        "id": "aggregate-screw"
      },
      "source": [
        "## Process for \"Tabla Actividad\""
      ],
      "id": "aggregate-screw"
    },
    {
      "cell_type": "markdown",
      "metadata": {
        "id": "EsxG7jIe0Zey"
      },
      "source": [
        "### Data loading"
      ],
      "id": "EsxG7jIe0Zey"
    },
    {
      "cell_type": "code",
      "metadata": {
        "id": "hSVxQbBRelKv"
      },
      "source": [
        "number = int(20210000)\n",
        "activity = pd.DataFrame()\n",
        "for i in range (1,6):\n",
        "  for j in range(1,30):\n",
        "    activity = pd.concat([activity, pd.read_csv('data/Masivo_capital_2_actividad_bus/Informe Actividad Bus_Zonal_102 Suba Oriental_202104/'+str(number+i*100+j)+' 102.csv', sep=';', encoding='latin-1')])\n",
        "    activity = pd.concat([activity, pd.read_csv('data/Masivo_capital_2_actividad_bus/Informe Actividad Bus_Zonal_112 Suba Oriental_202104/'+str(number+i*100+j)+' 112.csv', sep=';', encoding='latin-1')])"
      ],
      "id": "hSVxQbBRelKv",
      "execution_count": null,
      "outputs": []
    },
    {
      "cell_type": "markdown",
      "metadata": {
        "id": "3p5yZ9ClftqA"
      },
      "source": [
        "### Data cleaning"
      ],
      "id": "3p5yZ9ClftqA"
    },
    {
      "cell_type": "code",
      "metadata": {
        "id": "pakesoCowPip"
      },
      "source": [
        "# Check for data types\n",
        "activity.dtypes"
      ],
      "id": "pakesoCowPip",
      "execution_count": null,
      "outputs": []
    },
    {
      "cell_type": "code",
      "metadata": {
        "id": "OpFUCfCTe2ho"
      },
      "source": [
        "# We parse the field \"Fecha\" as datetime\n",
        "activity['Fecha'] = pd.to_datetime(activity['Fecha'], dayfirst=True)"
      ],
      "id": "OpFUCfCTe2ho",
      "execution_count": null,
      "outputs": []
    },
    {
      "cell_type": "code",
      "metadata": {
        "id": "nNqMFXwCwPit"
      },
      "source": [
        "# We check for NaN values in both departure and arrival times\n",
        "\n",
        "activity[(pd.isnull(activity['HoraLlegada'])) & (pd.isnull(activity['HoraSalida']))].tail()"
      ],
      "id": "nNqMFXwCwPit",
      "execution_count": null,
      "outputs": []
    },
    {
      "cell_type": "code",
      "metadata": {
        "id": "53q8nBIhf4xw"
      },
      "source": [
        "# We extract the integer from the field \"NumEventosBus\"\n",
        "\n",
        "activity['NumEventosBus'] = activity['NumEventosBus'].astype('string').str.extract('([0-9]+)')\n",
        "activity['NumEventosBus'] = activity['NumEventosBus'].astype('int')"
      ],
      "id": "53q8nBIhf4xw",
      "execution_count": null,
      "outputs": []
    },
    {
      "cell_type": "code",
      "metadata": {
        "id": "onom78fFf-Ln"
      },
      "source": [
        "# Extract the relevant information from the fields \"Linea\" and \"Operador\"\n",
        "\n",
        "activity['Linea'] = activity['Linea'].str.extract('\\[(.+)\\]')\n",
        "activity['Operador'] = activity['Operador'].str.extract('\\[.+\\] (\\S+)')"
      ],
      "id": "onom78fFf-Ln",
      "execution_count": null,
      "outputs": []
    },
    {
      "cell_type": "code",
      "metadata": {
        "id": "1rulrA92gJwx"
      },
      "source": [
        "# Casting the categorical data types\n",
        "\n",
        "activity['Evento'] = activity['Evento'].astype('category')\n",
        "activity['CodigoBus'] = activity['CodigoBus'].astype('category')\n",
        "activity['NumeroBus'] = activity['NumeroBus'].astype('category')\n",
        "activity['ServicioBus'] = activity['ServicioBus'].astype('category')\n",
        "activity['Tipo'] = activity['Tipo'].astype('category')"
      ],
      "id": "1rulrA92gJwx",
      "execution_count": null,
      "outputs": []
    },
    {
      "cell_type": "code",
      "metadata": {
        "id": "jPbJ6C7cgNIX"
      },
      "source": [
        "# Casting the field \"Alarma\" as a boolean \n",
        "\n",
        "activity['Alarma'] = activity['Alarma'].replace('Alarma',True)\n",
        "activity['Alarma'] = activity['Alarma'].fillna(False)"
      ],
      "id": "jPbJ6C7cgNIX",
      "execution_count": null,
      "outputs": []
    },
    {
      "cell_type": "code",
      "metadata": {
        "id": "mzrZZnrigV1K"
      },
      "source": [
        "# Function adjustment: Looks for erroneous hour stamps such as 24, 25 and 26 and changes them to 00, 01 and 02. Also, for these records the day\n",
        "# is set to the previous one as per indications from the client\n",
        "\n",
        "def adjustment(x):\n",
        "    match = re.search('(^[0-9]+):',str(x[0]))\n",
        "    if match:\n",
        "        if int(match.group(1)) > 23:\n",
        "            return re.sub('(^[0-9]+)',str(int(str(re.search('(^[0-9]+):',str(x[0])).group(1)))%24),str(x[0])), x[1] - datetime.timedelta(days=1) \n",
        "    return x\n",
        "\n",
        "# Function adjustment2: For the rest of the hour fields we only perform the stamp correction and not the day correction\n",
        "\n",
        "def adjustment2(x):\n",
        "    match = re.search('(^[0-9]+):',str(x))\n",
        "    if match:\n",
        "        if int(match.group(1)) > 23:\n",
        "            return re.sub('(^[0-9]+)',str(int(str(re.search('(^[0-9]+):',str(x)).group(1)))%24),str(x)) \n",
        "    return x"
      ],
      "id": "mzrZZnrigV1K",
      "execution_count": null,
      "outputs": []
    },
    {
      "cell_type": "code",
      "metadata": {
        "id": "e7JHh7r6hWsF"
      },
      "source": [
        "# Apply adjustment\n",
        "activity[['HoraTeorica', 'Fecha']] = activity[['HoraTeorica', 'Fecha']].apply(adjustment, axis=1)"
      ],
      "id": "e7JHh7r6hWsF",
      "execution_count": null,
      "outputs": []
    },
    {
      "cell_type": "code",
      "metadata": {
        "id": "uxbk1GSrheYH"
      },
      "source": [
        "# Aplly adjustment2\n",
        "\n",
        "activity['HoraReferencia'] = activity['HoraReferencia'].apply(adjustment2)\n",
        "activity['HoraLlegada'] = activity['HoraLlegada'].apply(adjustment2)  \n",
        "activity['HoraSalida'] = activity['HoraSalida'].apply(adjustment2)"
      ],
      "id": "uxbk1GSrheYH",
      "execution_count": null,
      "outputs": []
    },
    {
      "cell_type": "code",
      "metadata": {
        "id": "3MKs4LY_hjW2"
      },
      "source": [
        "# Create day of week, month and day of month fields\n",
        "\n",
        "activity['DiaSemana'] = activity['Fecha'].dt.dayofweek\n",
        "activity['Mes'] = activity['Fecha'].dt.month\n",
        "activity['Dia'] = activity['Fecha'].dt.day"
      ],
      "id": "3MKs4LY_hjW2",
      "execution_count": null,
      "outputs": []
    },
    {
      "cell_type": "code",
      "metadata": {
        "id": "hLndjvbrhp8_"
      },
      "source": [
        "# Cast the time stamp fields as datetime format\n",
        "\n",
        "activity['HoraTeorica'] = pd.to_datetime(activity['HoraTeorica'], format = '%H:%M:%S')\n",
        "activity['HoraReferencia'] = pd.to_datetime(activity['HoraReferencia'], format = '%H:%M:%S')\n",
        "activity['HoraLlegada'] = pd.to_datetime(activity['HoraLlegada'], format = '%H:%M:%S')\n",
        "activity['HoraSalida'] = pd.to_datetime(activity['HoraSalida'], format = '%H:%M:%S')"
      ],
      "id": "hLndjvbrhp8_",
      "execution_count": null,
      "outputs": []
    },
    {
      "cell_type": "code",
      "metadata": {
        "id": "q7uKxmeKhvfv"
      },
      "source": [
        "# To fill input missing time stamp values with some degree of randomization we compute the mean between arrival and departure times\n",
        "\n",
        "mean_activity = (activity['HoraSalida']-activity['HoraLlegada']).mean()\n",
        "mean_activity = mean_activity.round('1s')"
      ],
      "id": "q7uKxmeKhvfv",
      "execution_count": null,
      "outputs": []
    },
    {
      "cell_type": "code",
      "metadata": {
        "id": "GTD5VhMnh7H4"
      },
      "source": [
        "# Input the missing values in the time stamp fields using the methodology explained in the report\n",
        "\n",
        "activity['HoraLlegada'][(pd.isnull(activity['HoraLlegada'])) & (pd.isnull(activity['HoraSalida']))] = activity['HoraReferencia']\n",
        "activity['HoraSalida'][pd.isnull(activity['HoraSalida'])] = activity['HoraLlegada'] + mean_activity + datetime.timedelta(seconds=int(random.randint(0,5)))\n",
        "df['HoraLlegada'][pd.isnull(df['HoraLlegada'])] = activity['HoraSalida'] - mean_activity - datetime.timedelta(seconds=int(random.randint(0,5)))"
      ],
      "id": "GTD5VhMnh7H4",
      "execution_count": null,
      "outputs": []
    },
    {
      "cell_type": "code",
      "metadata": {
        "id": "tx3PeyHXiMTp"
      },
      "source": [
        "# Extract the timestamp from the time fields\n",
        "\n",
        "activity['HoraTeorica'] = pd.Series([val.time() for val in activity['HoraTeorica']])\n",
        "activity['HoraReferencia'] = pd.Series([val.time() for val in activity['HoraReferencia']])\n",
        "activity['HoraLlegada'] = pd.Series([val.time() for val in activity['HoraLlegada']])\n",
        "activity['HoraSalida'] = pd.Series([val.time() for val in activity['HoraSalida']]"
      ],
      "id": "tx3PeyHXiMTp",
      "execution_count": null,
      "outputs": []
    },
    {
      "cell_type": "code",
      "metadata": {
        "id": "5o0ZRtAViQIb"
      },
      "source": [
        "# save the complete dataframe\n",
        "activity.to_csv(path_or_buf='C:/Users/juanc/OneDrive/Escritorio/DS4A/Activity/Act03.csv')"
      ],
      "id": "5o0ZRtAViQIb",
      "execution_count": null,
      "outputs": []
    },
    {
      "cell_type": "code",
      "metadata": {
        "id": "gwwqM5H2iTyv"
      },
      "source": [
        "# save a lighter version of the dataframe with some relevant fields for ease of computation\n",
        "activity.to_csv(path_or_buf='C:/Users/juanc/OneDrive/Escritorio/DS4A/Activity/Act03L.csv', columns=['Fecha', 'Operador', 'NumeroBus', 'Linea', 'Nodo', 'Descripcion', 'HoraLlegada', 'Hora', 'DiaSemana', 'Mes', 'Dia'])"
      ],
      "id": "gwwqM5H2iTyv",
      "execution_count": null,
      "outputs": []
    },
    {
      "cell_type": "markdown",
      "metadata": {
        "id": "egyptian-bridal"
      },
      "source": [
        "### Univariate analysis"
      ],
      "id": "egyptian-bridal"
    },
    {
      "cell_type": "markdown",
      "metadata": {
        "id": "hollow-narrative"
      },
      "source": [
        "##### Numerical"
      ],
      "id": "hollow-narrative"
    },
    {
      "cell_type": "code",
      "metadata": {
        "id": "electoral-partner"
      },
      "source": [
        "# Create a histogram to observe the number of events per operator\n",
        "fig, ax = plt.subplots(1,2)\n",
        "sns.histplot(data=activity[activity['Operador'='SO']], x=\"NumEventosBus\", ax=ax[0,0])\n",
        "ax[0,0].set_title('Alimentadores Suba Oriental')\n",
        "sns.histplot(data=activity[activity['Operador'='KN']], x=\"NumEventosBus\", ax=ax[0,1])\n",
        "ax[0,1].set_title('Zonales Suba Oriental')\n",
        "fig.suptitle('Frecuencia Número de eventos por Bus')\n",
        "fig.set_size_inches(18.5, 10.5)\n",
        "fig.tight_layout()\n",
        "fig.subplots_adjust(top=0.88)"
      ],
      "id": "electoral-partner",
      "execution_count": null,
      "outputs": []
    },
    {
      "cell_type": "code",
      "metadata": {
        "id": "bound-august"
      },
      "source": [
        "# Create a correlation pairplot to observe pearson correlation between fields\n",
        "sns.pairplot(activity)"
      ],
      "id": "bound-august",
      "execution_count": null,
      "outputs": []
    },
    {
      "cell_type": "markdown",
      "metadata": {
        "id": "reported-coast"
      },
      "source": [
        "##### Categorical"
      ],
      "id": "reported-coast"
    },
    {
      "cell_type": "markdown",
      "metadata": {
        "id": "chief-assets"
      },
      "source": [
        "_NumeroBus_"
      ],
      "id": "chief-assets"
    },
    {
      "cell_type": "code",
      "metadata": {
        "id": "fresh-hebrew"
      },
      "source": [
        "# Bus Number Analysis based on operator\n",
        "\n",
        "fig, ax = plt.subplots(1,2)\n",
        "sns.barplot(activity[activity['Operador'='SO']]['NumeroBus'].value_counts().index,activity[activity['Operador'='SO']]['NumeroBus'].value_counts().values, ax=ax[0,0])\n",
        "sns.barplot(activity[activity['Operador'='KEN']]['NumeroBus'].value_counts().index,activity[activity['Operador'='KEN']]['NumeroBus'].value_counts().values, ax=ax[1,0])\n",
        "ax[0,0].tick_params(axis='x', rotation=90)\n",
        "ax[0,1].tick_params(axis='x', rotation=90)\n",
        "ax[0,0].set_title('Zonales Suba Oriental')\n",
        "ax[0,1].set_title('Zonales Kennedy')\n",
        "fig.suptitle('Frecuencia por número de bus')\n",
        "fig.set_size_inches(18.5, 10.5)\n",
        "fig.tight_layout(pad=3.0)\n",
        "fig.subplots_adjust(top=0.88)"
      ],
      "id": "fresh-hebrew",
      "execution_count": null,
      "outputs": []
    },
    {
      "cell_type": "markdown",
      "metadata": {
        "id": "neural-powder"
      },
      "source": [
        "**Analysis**"
      ],
      "id": "neural-powder"
    },
    {
      "cell_type": "markdown",
      "metadata": {
        "id": "passing-covering"
      },
      "source": [
        "_Evento_"
      ],
      "id": "passing-covering"
    },
    {
      "cell_type": "code",
      "metadata": {
        "id": "sYc18DJ3qO_y"
      },
      "source": [
        "# Number of events Analysis based on operator\n",
        "\n",
        "fig, ax = plt.subplots(1,2)\n",
        "sns.barplot(activity[activity['Operador'='SO']]['Evento'].value_counts().index,activity[activity['Operador'='SO']]['Evento'].value_counts().values, ax=ax[0,0])\n",
        "sns.barplot(activity[activity['Operador'='KEN']]['Evento'].value_counts().index,activity[activity['Operador'='KEN']]['Evento'].value_counts().values, ax=ax[1,0])\n",
        "ax[0,0].tick_params(axis='x', rotation=90)\n",
        "ax[0,1].tick_params(axis='x', rotation=90)\n",
        "ax[0,0].set_title('Zonales Suba Oriental')\n",
        "ax[0,1].set_title('Zonales Kennedy')\n",
        "fig.suptitle('Frecuencia Evento')\n",
        "fig.set_size_inches(18.5, 10.5)\n",
        "fig.tight_layout(pad=3.0)\n",
        "fig.subplots_adjust(top=0.88)"
      ],
      "id": "sYc18DJ3qO_y",
      "execution_count": null,
      "outputs": []
    },
    {
      "cell_type": "markdown",
      "metadata": {
        "id": "radical-cherry"
      },
      "source": [
        "**Analysis**"
      ],
      "id": "radical-cherry"
    },
    {
      "cell_type": "markdown",
      "metadata": {
        "id": "indie-programming"
      },
      "source": [
        "_Tipo_"
      ],
      "id": "indie-programming"
    },
    {
      "cell_type": "code",
      "metadata": {
        "id": "kvfMaR3frVU_"
      },
      "source": [
        "# Travel Type based on operator\n",
        "\n",
        "fig, ax = plt.subplots(1,2)\n",
        "sns.barplot(activity[activity['Operador'='SO']]['Tipo'].value_counts().index,activity[activity['Operador'='SO']]['Tipo'].value_counts().values, ax=ax[0,0])\n",
        "sns.barplot(activity[activity['Operador'='KEN']]['Tipo'].value_counts().index,activity[activity['Operador'='KEN']]['Tipo'].value_counts().values, ax=ax[1,0])\n",
        "ax[0,0].tick_params(axis='x', rotation=90)\n",
        "ax[0,1].tick_params(axis='x', rotation=90)\n",
        "ax[0,0].set_title('Zonales Suba Oriental')\n",
        "ax[0,1].set_title('Zonales Kennedy')\n",
        "fig.suptitle('Tipo de viaje')\n",
        "fig.set_size_inches(18.5, 10.5)\n",
        "fig.tight_layout(pad=3.0)\n",
        "fig.subplots_adjust(top=0.88)"
      ],
      "id": "kvfMaR3frVU_",
      "execution_count": null,
      "outputs": []
    },
    {
      "cell_type": "markdown",
      "metadata": {
        "id": "social-lover"
      },
      "source": [
        "#### Time"
      ],
      "id": "social-lover"
    },
    {
      "cell_type": "markdown",
      "metadata": {
        "id": "cardiac-isaac"
      },
      "source": [
        "##### Distribution per year"
      ],
      "id": "cardiac-isaac"
    },
    {
      "cell_type": "code",
      "metadata": {
        "id": "N6nbp8lSrh4L"
      },
      "source": [
        "# Line plots for frequency of records based on date\n",
        "\n",
        "fig, ax = plt.subplots(1,2)\n",
        "sns.barplot(activity[activity['Operador'='SO']]['Fecha'].value_counts().index,activity[activity['Operador'='SO']]['Fecha'].value_counts().values, ax=ax[0,0])\n",
        "sns.barplot(activity[activity['Operador'='KEN']]['Fecha'].value_counts().index,activity[activity['Operador'='KEN']]['Fecha'].value_counts().values, ax=ax[1,0])\n",
        "ax[0,0].tick_params(axis='x', rotation=90)\n",
        "ax[0,1].tick_params(axis='x', rotation=90)\n",
        "ax[0,0].set_title('Zonales Suba Oriental')\n",
        "ax[0,1].set_title('Zonales Kennedy')\n",
        "fig.suptitle('Frequency and travel date')\n",
        "fig.set_size_inches(18.5, 10.5)\n",
        "fig.tight_layout(pad=3.0)\n",
        "fig.subplots_adjust(top=0.88)"
      ],
      "id": "N6nbp8lSrh4L",
      "execution_count": null,
      "outputs": []
    },
    {
      "cell_type": "markdown",
      "metadata": {
        "id": "rotary-format"
      },
      "source": [
        "##### Distribution per hour"
      ],
      "id": "rotary-format"
    },
    {
      "cell_type": "code",
      "metadata": {
        "id": "I5OChNJBsKsB"
      },
      "source": [
        "# Histograms for frequency of records based on date\n",
        "\n",
        "fig, ax = plt.subplots(1,2)\n",
        "sns.barplot(activity[activity['Operador'='SO']]['HoraReferencia'].value_counts().index,activity[activity['Operador'='SO']]['HoraReferencia'].value_counts().values, ax=ax[0,0])\n",
        "sns.barplot(activity[activity['Operador'='KEN']]['HoraReferencia'].value_counts().index,activity[activity['Operador'='KEN']]['HoraReferencia'].value_counts().values, ax=ax[1,0])\n",
        "ax[0,0].tick_params(axis='x', rotation=90)\n",
        "ax[0,1].tick_params(axis='x', rotation=90)\n",
        "ax[0,0].set_title('Zonales Suba Oriental')\n",
        "ax[0,1].set_title('Zonales Kennedy')\n",
        "fig.suptitle('Frequency and travel Hour')\n",
        "fig.set_size_inches(18.5, 10.5)\n",
        "fig.tight_layout(pad=3.0)\n",
        "fig.subplots_adjust(top=0.88)"
      ],
      "id": "I5OChNJBsKsB",
      "execution_count": null,
      "outputs": []
    },
    {
      "cell_type": "markdown",
      "metadata": {
        "id": "confused-colon"
      },
      "source": [
        "##### Distribution per week days"
      ],
      "id": "confused-colon"
    },
    {
      "cell_type": "code",
      "metadata": {
        "id": "xWYwDi5Gs0v1"
      },
      "source": [
        "# Histograms for frequency of records based on day of month\n",
        "\n",
        "fig, ax = plt.subplots(1,2)\n",
        "sns.histplot(activity[activity['Operador'='SO']]['Dia'].values, ax=ax[0,0], bins=14)\n",
        "sns.histplot(activity[activity['Operador'='KEN']]['Dia'].values, ax=ax[0,1], bins=14)\n",
        "ax[0,0].set_title('Zonales Suba Oriental')\n",
        "ax[0,1].set_title('Zonales Kennedy')\n",
        "fig.suptitle('Frequency per day of month')\n",
        "fig.set_size_inches(18.5, 10.5)\n",
        "fig.tight_layout()\n",
        "fig.subplots_adjust(top=0.88)"
      ],
      "id": "xWYwDi5Gs0v1",
      "execution_count": null,
      "outputs": []
    },
    {
      "cell_type": "markdown",
      "metadata": {
        "id": "vsQlKXOw1x5y"
      },
      "source": [
        "## Process for \"Tabla Validaciones\""
      ],
      "id": "vsQlKXOw1x5y"
    },
    {
      "cell_type": "markdown",
      "metadata": {
        "id": "W3Ei6U5z4ATr"
      },
      "source": [
        "### Data loading"
      ],
      "id": "W3Ei6U5z4ATr"
    },
    {
      "cell_type": "code",
      "metadata": {
        "id": "VqpO8QCq17Qo"
      },
      "source": [
        "# Provided data starts at week 3 of 2021\n",
        "week = 3 "
      ],
      "id": "VqpO8QCq17Qo",
      "execution_count": null,
      "outputs": []
    },
    {
      "cell_type": "code",
      "metadata": {
        "id": "g9SOTzU02H_b"
      },
      "source": [
        "# CLEANING VALIDATION SUBA ORIENTAL 1\n",
        "valid_suba_raw_list=[]\n",
        "for i in range(0,24):\n",
        "  for chunk in pd.read_csv('/content/gdrive/MyDrive/Data_DS4A/Reporte de Validaciones/Reporte de Validaciones_Zonal_102 Suba Oriental_202104_Semana '+str(week+i)+'.csv',sep=';',encoding='latin-1',chunksize=100000, parse_dates=['Fecha Clearing','Día Trx'], low_memory=False):\n",
        "    # DC, T, FE\n",
        "    # suba oriental\n",
        "\n",
        "    # Columns are renamed for consistency\n",
        "    chunk_newcols = {\"Fecha Clearing\":\"fecha_clearing\",\n",
        "                    \"Día Trx\":\"dia_trx\",\n",
        "                    \"Hora Trx\":\"hora_trx\",\n",
        "                    \"Operador\":\"operador\",\n",
        "                    \"Ruta Modificada\":\"ruta_modificada\",\n",
        "                    \"Linea SAE\":\"linea_sae\",\n",
        "                    \"Parada\":\"parada\",\n",
        "                    \"Tipo Vehiculo\":\"tipo_vehiculo\",\n",
        "                    \"Vehiculo\":\"vehiculo\",\n",
        "                    \"Tipo de Viaje\":\"tipo_viaje\",\n",
        "                    \"Linea\":\"id_linea\"\n",
        "                  }\n",
        "    chunk = chunk.rename(columns=chunk_newcols)\n",
        "\n",
        "    # The field \"Linea\" is cleaned by stripping the id number(unnecesary)    \n",
        "    def split_linea(value):\n",
        "        value1=str(value)\n",
        "        value1=value1.split(' ')\n",
        "        value1=value1[-1].strip() \n",
        "        return value1   \n",
        "    chunk['linea']=chunk['id_linea'].apply(split_linea)\n",
        "\n",
        "    # An ID is created for each register\n",
        "    shape_df_chunk=chunk.shape\n",
        "    chunk['val_id']=np.array([i for i in range(1,shape_df_chunk[0]+1)])\n",
        "\n",
        "    # The name of each CENEFA is extracted\n",
        "    chunk['parada']=chunk['parada'].astype('str')\n",
        "    def split_cenefa(value):\n",
        "      if re.findall(r'\\d{3}\\w{1}\\d{2}', value)==[]:\n",
        "        return value\n",
        "      else:\n",
        "        return re.findall(r'(\\d{3}\\w{1}\\d{2})', value)[-1]       \n",
        "    chunk['parada']=chunk['parada'].apply(split_cenefa)\n",
        "\n",
        "    chunk = chunk.dropna()\n",
        "\n",
        "    def dec_to_hour(num):\n",
        "      total = float(num.replace(',', '.'))*84600\n",
        "      dummy, secs = divmod(total,60)\n",
        "      hrs, mins = divmod(dummy,60)\n",
        "      stamp = str(int(hrs)) + ':' + str(int(mins)) + ':' + str(int(secs))\n",
        "      return stamp\n",
        "    \n",
        "    chunk['hora_trx']=chunk['hora_trx'].astype('str')\n",
        "    indexer=chunk['hora_trx'].str.match('^0,')\n",
        "    chunk.loc[indexer, 'hora_trx'] = chunk[indexer].apply(lambda row: dec_to_hour(row['hora_trx']), axis=1 )\n",
        "\n",
        "    # The field \"Hora Trx\" is parsed to datetime and the time stamp is extracted \n",
        "    chunk['hora_trx']=pd.to_datetime(chunk['hora_trx'], format=\"%H:%M:%S\")\n",
        "    chunk['val_minute']=chunk['hora_trx'].dt.minute\n",
        "    chunk['val_hour']=chunk['hora_trx'].dt.hour\n",
        "\n",
        "    # The day of month and day of week are obtained and casted as categorycal\n",
        "    chunk['val_date']=chunk['fecha_clearing'].dt.day\n",
        "    chunk['val_day_week']=chunk['fecha_clearing'].dt.dayofweek\n",
        "    chunk['val_day_name']=chunk['fecha_clearing'].dt.day_name()\n",
        "    cat_day_name = pd.api.types.CategoricalDtype(categories=['Monday','Tuesday','Wednesday','Thursday', 'Friday', 'Saturday', 'Sunday'], ordered=True)\n",
        "    chunk['val_day_name'] = chunk['val_day_name'].astype(cat_day_name) \n",
        "\n",
        "    # The month of each transaction is obtained\n",
        "    chunk['val_month']=chunk['fecha_clearing'].dt.month\n",
        "    chunk['val_year']=chunk['fecha_clearing'].dt.year\n",
        "    \n",
        "    valid_suba_raw_list.append(chunk)\n",
        "\n",
        "valid_suba_raw=pd.concat(valid_suba_raw_list, axis=0)\n",
        "valid_suba_raw.reset_index()\n",
        "valid_suba_raw"
      ],
      "id": "g9SOTzU02H_b",
      "execution_count": null,
      "outputs": []
    },
    {
      "cell_type": "code",
      "metadata": {
        "id": "qaY6hb_g2472"
      },
      "source": [
        "# CLEANING VALIDATION SUBA ORIENTAL 2\n",
        "# Type casting\n",
        "valid_suba_raw['operador']=valid_suba_raw['operador'].astype(\"category\")\n",
        "valid_suba_raw['ruta_modificada']=valid_suba_raw['ruta_modificada'].astype(\"category\")\n",
        "valid_suba_raw['linea_sae']=valid_suba_raw['linea_sae'].astype(\"category\")\n",
        "valid_suba_raw['tipo_vehiculo']=valid_suba_raw['tipo_vehiculo'].astype(\"category\")\n",
        "valid_suba_raw['vehiculo']=valid_suba_raw['vehiculo'].astype(\"category\")\n",
        "valid_suba_raw['tipo_viaje']=valid_suba_raw['tipo_viaje'].astype(\"category\")\n",
        "valid_suba_raw['id_linea']=valid_suba_raw['id_linea'].astype(\"category\")\n",
        "valid_suba_raw['val_id']=valid_suba_raw['val_id'].astype(\"category\")\n",
        "valid_suba_raw['val_minute']=valid_suba_raw['val_minute'].astype(\"category\")\n",
        "valid_suba_raw['val_hour']=valid_suba_raw['val_hour'].astype(\"category\")\n",
        "valid_suba_raw['val_date']=valid_suba_raw['val_date'].astype(\"category\")\n",
        "valid_suba_raw['val_day_week']=valid_suba_raw['val_day_week'].astype(\"category\")\n",
        "valid_suba_raw['val_day_name']=valid_suba_raw['val_day_name'].astype(\"category\")\n",
        "valid_suba_raw['val_month']=valid_suba_raw['val_month'].astype(\"category\")\n",
        "valid_suba_raw['val_year']=valid_suba_raw['val_year'].astype(\"category\")"
      ],
      "id": "qaY6hb_g2472",
      "execution_count": null,
      "outputs": []
    },
    {
      "cell_type": "code",
      "metadata": {
        "id": "aQxtbS7R3Xgo"
      },
      "source": [
        "# CLEANING VALIDATION KENNEDY 1\n",
        "valid_ken_raw_list=[]\n",
        "for i in range(0,24):\n",
        "  for chunk in pd.read_csv('/content/gdrive/MyDrive/Data_DS4A/Reporte de Validaciones/Reporte de Validaciones_Zonal_102 ken Oriental_202104_Semana '+str(week+i)+'.csv',sep=';',encoding='latin-1',chunksize=100000, parse_dates=['Fecha Clearing','Día Trx'], low_memory=False):\n",
        "    # DC, T, FE\n",
        "    # ken oriental\n",
        "\n",
        "    # Columns are renamed for consistency\n",
        "    chunk_newcols = {\"Fecha Clearing\":\"fecha_clearing\",\n",
        "                    \"Día Trx\":\"dia_trx\",\n",
        "                    \"Hora Trx\":\"hora_trx\",\n",
        "                    \"Operador\":\"operador\",\n",
        "                    \"Ruta Modificada\":\"ruta_modificada\",\n",
        "                    \"Linea SAE\":\"linea_sae\",\n",
        "                    \"Parada\":\"parada\",\n",
        "                    \"Tipo Vehiculo\":\"tipo_vehiculo\",\n",
        "                    \"Vehiculo\":\"vehiculo\",\n",
        "                    \"Tipo de Viaje\":\"tipo_viaje\",\n",
        "                    \"Linea\":\"id_linea\"\n",
        "                  }\n",
        "    chunk = chunk.rename(columns=chunk_newcols)\n",
        "\n",
        "    # The field \"Linea\" is cleaned by stripping the id number(unnecesary)    \n",
        "    def split_linea(value):\n",
        "        value1=str(value)\n",
        "        value1=value1.split(' ')\n",
        "        value1=value1[-1].strip() \n",
        "        return value1   \n",
        "    chunk['linea']=chunk['id_linea'].apply(split_linea)\n",
        "\n",
        "    # An ID is created for each register\n",
        "    shape_df_chunk=chunk.shape\n",
        "    chunk['val_id']=np.array([i for i in range(1,shape_df_chunk[0]+1)])\n",
        "\n",
        "    # The name of each CENEFA is extracted\n",
        "    chunk['parada']=chunk['parada'].astype('str')\n",
        "    def split_cenefa(value):\n",
        "      if re.findall(r'\\d{3}\\w{1}\\d{2}', value)==[]:\n",
        "        return value\n",
        "      else:\n",
        "        return re.findall(r'(\\d{3}\\w{1}\\d{2})', value)[-1]       \n",
        "    chunk['parada']=chunk['parada'].apply(split_cenefa)\n",
        "\n",
        "    chunk = chunk.dropna()\n",
        "\n",
        "    def dec_to_hour(num):\n",
        "      total = float(num.replace(',', '.'))*84600\n",
        "      dummy, secs = divmod(total,60)\n",
        "      hrs, mins = divmod(dummy,60)\n",
        "      stamp = str(int(hrs)) + ':' + str(int(mins)) + ':' + str(int(secs))\n",
        "      return stamp\n",
        "    \n",
        "    chunk['hora_trx']=chunk['hora_trx'].astype('str')\n",
        "    indexer=chunk['hora_trx'].str.match('^0,')\n",
        "    chunk.loc[indexer, 'hora_trx'] = chunk[indexer].apply(lambda row: dec_to_hour(row['hora_trx']), axis=1 )\n",
        "\n",
        "    # The field \"Hora Trx\" is parsed to datetime and the time stamp is extracted \n",
        "    chunk['hora_trx']=pd.to_datetime(chunk['hora_trx'], format=\"%H:%M:%S\")\n",
        "    chunk['val_minute']=chunk['hora_trx'].dt.minute\n",
        "    chunk['val_hour']=chunk['hora_trx'].dt.hour\n",
        "\n",
        "    # The day of month and day of week are obtained and casted as categorycal\n",
        "    chunk['val_date']=chunk['fecha_clearing'].dt.day\n",
        "    chunk['val_day_week']=chunk['fecha_clearing'].dt.dayofweek\n",
        "    chunk['val_day_name']=chunk['fecha_clearing'].dt.day_name()\n",
        "    cat_day_name = pd.api.types.CategoricalDtype(categories=['Monday','Tuesday','Wednesday','Thursday', 'Friday', 'Saturday', 'Sunday'], ordered=True)\n",
        "    chunk['val_day_name'] = chunk['val_day_name'].astype(cat_day_name) \n",
        "\n",
        "    # The month of each transaction is obtained\n",
        "    chunk['val_month']=chunk['fecha_clearing'].dt.month\n",
        "    chunk['val_year']=chunk['fecha_clearing'].dt.year\n",
        "    \n",
        "    valid_ken_raw_list.append(chunk)\n",
        "\n",
        "valid_ken_raw=pd.concat(valid_ken_raw_list, axis=0)\n",
        "valid_ken_raw.reset_index()\n",
        "valid_ken_raw"
      ],
      "id": "aQxtbS7R3Xgo",
      "execution_count": null,
      "outputs": []
    },
    {
      "cell_type": "code",
      "metadata": {
        "id": "ZlCndZXR3f6c"
      },
      "source": [
        "# CLEANING VALIDATION KENNEDY 2\n",
        "# Type casting\n",
        "valid_ken_raw['operador']=valid_ken_raw['operador'].astype(\"category\")\n",
        "valid_ken_raw['ruta_modificada']=valid_ken_raw['ruta_modificada'].astype(\"category\")\n",
        "valid_ken_raw['linea_sae']=valid_ken_raw['linea_sae'].astype(\"category\")\n",
        "valid_ken_raw['tipo_vehiculo']=valid_ken_raw['tipo_vehiculo'].astype(\"category\")\n",
        "valid_ken_raw['vehiculo']=valid_ken_raw['vehiculo'].astype(\"category\")\n",
        "valid_ken_raw['tipo_viaje']=valid_ken_raw['tipo_viaje'].astype(\"category\")\n",
        "valid_ken_raw['id_linea']=valid_ken_raw['id_linea'].astype(\"category\")\n",
        "valid_ken_raw['val_id']=valid_ken_raw['val_id'].astype(\"category\")\n",
        "valid_ken_raw['val_minute']=valid_ken_raw['val_minute'].astype(\"category\")\n",
        "valid_ken_raw['val_hour']=valid_ken_raw['val_hour'].astype(\"category\")\n",
        "valid_ken_raw['val_date']=valid_ken_raw['val_date'].astype(\"category\")\n",
        "valid_ken_raw['val_day_week']=valid_ken_raw['val_day_week'].astype(\"category\")\n",
        "valid_ken_raw['val_day_name']=valid_ken_raw['val_day_name'].astype(\"category\")\n",
        "valid_ken_raw['val_month']=valid_ken_raw['val_month'].astype(\"category\")\n",
        "valid_ken_raw['val_year']=valid_ken_raw['val_year'].astype(\"category\")"
      ],
      "id": "ZlCndZXR3f6c",
      "execution_count": null,
      "outputs": []
    },
    {
      "cell_type": "markdown",
      "metadata": {
        "id": "BlLeHVbz9ELY"
      },
      "source": [
        "### Cleaning and exploration"
      ],
      "id": "BlLeHVbz9ELY"
    },
    {
      "cell_type": "code",
      "metadata": {
        "id": "jhbOuqyt862k"
      },
      "source": [
        "# EDA\n",
        "# info datasets\n",
        "\n",
        "valid_suba_raw.info()\n",
        "print('\\n')\n",
        "valid_ken_raw.info()"
      ],
      "id": "jhbOuqyt862k",
      "execution_count": null,
      "outputs": []
    },
    {
      "cell_type": "code",
      "metadata": {
        "id": "G7dD9FJS882c"
      },
      "source": [
        "# EDA\n",
        "# cantidad de duplicated values\n",
        "\n",
        "dup_valid_suba_raw=valid_suba_raw[valid_suba_raw.duplicated(keep=False)]\n",
        "dup_valid_ken_raw=valid_ken_raw[valid_ken_raw.duplicated(keep=False)]\n",
        "\n",
        "print(dup_valid_suba_raw.info())\n",
        "print(dup_valid_ken_raw.info())"
      ],
      "id": "G7dD9FJS882c",
      "execution_count": null,
      "outputs": []
    },
    {
      "cell_type": "code",
      "metadata": {
        "id": "ohpeeRPA8_ZM"
      },
      "source": [
        "# EDA\n",
        "# calcula los valores únicos de las columnas seleccionadas como argumentos\n",
        "def unique_vals (df, *args):\n",
        "\n",
        "    for col in args:    \n",
        "        print('-----------------------------------------------------------------------------------------------------------------------------------------------------')\n",
        "        print(valid_suba_raw[col].value_counts().to_frame().reset_index().sort_values(by=['index']))\n",
        "        print('\\n')\n",
        "        print(valid_suba_raw[col].unique().shape)\n",
        "        print('-----------------------------------------------------------------------------------------------------------------------------------------------------')\n",
        "        print('\\n')\n",
        "\n",
        "# valores únicos suba oriental\n",
        "unique_vals (valid_suba_raw, 'Fecha Clearing', 'Día Trx', 'Hora Trx', 'Operador', 'Ruta Modificada', 'Linea SAE', 'Parada', 'Tipo Vehiculo', 'Vehiculo', 'Tipo de Viaje', 'Linea')\n",
        "\n",
        "# valores únicos kennedy\n",
        "unique_vals (valid_ken_raw, 'Fecha Clearing', 'Día Trx', 'Hora Trx', 'Operador', 'Ruta Modificada', 'Linea SAE', 'Parada', 'Tipo Vehiculo', 'Vehiculo', 'Tipo de Viaje', 'Linea')"
      ],
      "id": "ohpeeRPA8_ZM",
      "execution_count": null,
      "outputs": []
    },
    {
      "cell_type": "markdown",
      "metadata": {
        "id": "dSGMIwVI-ON8"
      },
      "source": [
        "#### Univariate analysis for Kennedy"
      ],
      "id": "dSGMIwVI-ON8"
    },
    {
      "cell_type": "code",
      "metadata": {
        "id": "VrFAVJ4h-QY2"
      },
      "source": [
        "# EDA\n",
        "# kennedy\n",
        "\n",
        "bar_hour_ken=valid_ken_raw.groupby(['val_hour'])['val_id'].count()\n",
        "bar_hour_ken=bar_hour_ken.reset_index()\n",
        "\n",
        "sns.barplot(data=bar_hour_ken, x='val_hour', y='val_id', palette=\"pastel\")"
      ],
      "id": "VrFAVJ4h-QY2",
      "execution_count": null,
      "outputs": []
    },
    {
      "cell_type": "code",
      "metadata": {
        "id": "PzIQAfle-Sif"
      },
      "source": [
        "# EDA\n",
        "# kennedy\n",
        "\n",
        "bar_weekday_ken=valid_ken_raw.groupby(['val_day_name'])['val_id'].count()\n",
        "bar_weekday_ken=bar_weekday_ken.reset_index()\n",
        "\n",
        "sns.barplot(data=bar_weekday_ken, x='val_day_name', y='val_id', palette=\"pastel\")\n",
        "plt.xticks(rotation=90)"
      ],
      "id": "PzIQAfle-Sif",
      "execution_count": null,
      "outputs": []
    },
    {
      "cell_type": "code",
      "metadata": {
        "id": "XjKV__PI-UPV"
      },
      "source": [
        "# EDA\n",
        "# kennedy\n",
        "\n",
        "bar_day_ken=valid_ken_raw.groupby(['val_date'])['val_id'].count()\n",
        "bar_day_ken=bar_day_ken.reset_index()\n",
        "\n",
        "sns.barplot(data=bar_day_ken, x='val_date', y='val_id', palette=\"pastel\")"
      ],
      "id": "XjKV__PI-UPV",
      "execution_count": null,
      "outputs": []
    },
    {
      "cell_type": "code",
      "metadata": {
        "id": "Dg0YR1Lk-WZT"
      },
      "source": [
        "# EDA\n",
        "# kennedy\n",
        "\n",
        "valid_ken_parada=valid_ken_raw.groupby(['parada'])['val_id'].count()\n",
        "valid_ken_parada=valid_ken_parada.reset_index().sort_values(by='val_id', ascending=False).head(30)\n",
        "\n",
        "f10, ax10 = plt.subplots(figsize=(15, 6))\n",
        "g0=sns.barplot(data=valid_ken_parada, x='parada', y='val_id', palette=\"pastel\", ax=ax10)\n",
        "plt.xticks(rotation=90)"
      ],
      "id": "Dg0YR1Lk-WZT",
      "execution_count": null,
      "outputs": []
    },
    {
      "cell_type": "code",
      "metadata": {
        "id": "5guFET8a-Xh0"
      },
      "source": [
        "# EDA\n",
        "# kennedy\n",
        "\n",
        "valid_ken_linea=valid_ken_raw.groupby(['linea'])['val_id'].count()\n",
        "valid_ken_linea=valid_ken_linea.reset_index().sort_values(by='val_id', ascending=False)\n",
        "\n",
        "f11, ax11 = plt.subplots(figsize=(17, 6))\n",
        "g1=sns.barplot(data=valid_ken_linea, x='linea', y='val_id', palette=\"pastel\", ax=ax11)\n",
        "plt.xticks(rotation=90)"
      ],
      "id": "5guFET8a-Xh0",
      "execution_count": null,
      "outputs": []
    },
    {
      "cell_type": "code",
      "metadata": {
        "id": "2xsEHcvx-Ziw"
      },
      "source": [
        "# EDA\n",
        "# kennedy\n",
        "\n",
        "valid_ken_hmn_linea=pd.crosstab(index=valid_ken_raw[\"linea\"], columns=valid_ken_raw[\"val_hour\"], normalize=\"index\")*100\n",
        "\n",
        "f12, ax12 = plt.subplots(figsize=(20, 20))\n",
        "g2=sns.heatmap(valid_ken_hmn_linea, cmap=\"Reds\", ax=ax12, annot=True, fmt=\".2f\")"
      ],
      "id": "2xsEHcvx-Ziw",
      "execution_count": null,
      "outputs": []
    },
    {
      "cell_type": "code",
      "metadata": {
        "id": "aJT9_Uks-buX"
      },
      "source": [
        "# EDA\n",
        "# kennedy\n",
        "\n",
        "valid_ken_hmn_parada_hour=pd.crosstab(index=valid_ken_raw[\"linea\"], columns=valid_ken_raw[\"val_hour\"], normalize=\"columns\")*100\n",
        "\n",
        "f13, ax13 = plt.subplots(figsize=(20, 20))\n",
        "g3=sns.heatmap(valid_ken_hmn_parada_hour, cmap=\"Reds\", ax=ax13, annot=True, fmt=\".2f\")"
      ],
      "id": "aJT9_Uks-buX",
      "execution_count": null,
      "outputs": []
    },
    {
      "cell_type": "code",
      "metadata": {
        "id": "M8LmUazh-djg"
      },
      "source": [
        "# EDA\n",
        "# kennedy\n",
        "\n",
        "valid_ken_hm_hourday=pd.crosstab(index=valid_ken_raw[\"val_day_name\"], columns=valid_ken_raw[\"val_hour\"])\n",
        "\n",
        "f14, ax14 = plt.subplots(figsize=(20, 8))\n",
        "g4=sns.heatmap(valid_ken_hm_hourday, cmap=\"Reds\" ,ax=ax14, annot=True, fmt=\"d\")"
      ],
      "id": "M8LmUazh-djg",
      "execution_count": null,
      "outputs": []
    },
    {
      "cell_type": "code",
      "metadata": {
        "id": "jhJKrtHh-fyM"
      },
      "source": [
        "# EDA\n",
        "# kennedy\n",
        "\n",
        "valid_ken_hmn_dayhour=pd.crosstab(index=valid_ken_raw[\"val_day_name\"], columns=valid_ken_raw[\"val_hour\"], normalize='index')\n",
        "\n",
        "f15, ax15 = plt.subplots(figsize=(15, 8))\n",
        "g5=sns.heatmap(valid_ken_hmn_dayhour, cmap=\"Reds\" ,ax=ax15, annot=True, fmt=\".2f\")"
      ],
      "id": "jhJKrtHh-fyM",
      "execution_count": null,
      "outputs": []
    },
    {
      "cell_type": "code",
      "metadata": {
        "id": "NXq9MrcB-hpr"
      },
      "source": [
        "# EDA\n",
        "# kennedy\n",
        "\n",
        "valid_ken_hmn_hourday=pd.crosstab(index=valid_ken_raw[\"val_day_name\"], columns=valid_ken_raw[\"val_hour\"], normalize='columns')\n",
        "\n",
        "f16, ax16 = plt.subplots(figsize=(15, 8))\n",
        "g6=sns.heatmap(valid_ken_hmn_hourday, cmap=\"Reds\" ,ax=ax16, annot=True, fmt=\".2f\")"
      ],
      "id": "NXq9MrcB-hpr",
      "execution_count": null,
      "outputs": []
    },
    {
      "cell_type": "code",
      "metadata": {
        "id": "uoUM3mNI-jWp"
      },
      "source": [
        "# EDA\n",
        "# kennedy\n",
        "\n",
        "# Monthly average of validations for different bus stops\n",
        "unique_values_paradas_ken=valid_ken_parada['parada'].unique()\n",
        "valid_ken_pltmeanparada=valid_ken_raw[valid_ken_raw['val_month']==4].groupby(['parada', 'val_hour', 'fecha_clearing'])['val_id'].count()\n",
        "valid_ken_pltmeanparada=valid_ken_pltmeanparada.reset_index()\n",
        "valid_ken_pltmeanparada=valid_ken_pltmeanparada[valid_ken_pltmeanparada['parada'].isin(unique_values_paradas_ken)]\n",
        "valid_ken_pltmeanparada=valid_ken_pltmeanparada.groupby(['parada', 'val_hour'])['val_id'].mean().reset_index()\n",
        "\n",
        "fig7 = px.line(valid_ken_pltmeanparada, x=\"val_hour\", y=\"val_id\", color='parada')\n",
        "fig7.show()"
      ],
      "id": "uoUM3mNI-jWp",
      "execution_count": null,
      "outputs": []
    },
    {
      "cell_type": "code",
      "metadata": {
        "id": "CFOm1C-y-l2G"
      },
      "source": [
        "# EDA\n",
        "# kennedy\n",
        "\n",
        "# Monthly average of validations for different bus lines\n",
        "\n",
        "valid_ken_pltmeanlinea=valid_ken_raw[valid_ken_raw['val_month']==4].groupby(['linea', 'val_hour', 'fecha_clearing'])['val_id'].count()\n",
        "valid_ken_pltmeanlinea=valid_ken_pltmeanlinea.reset_index()\n",
        "valid_ken_pltmeanlinea=valid_ken_pltmeanlinea.groupby(['linea', 'val_hour'])['val_id'].mean().reset_index()\n",
        "\n",
        "fig7 = px.line(valid_ken_pltmeanlinea, x=\"val_hour\", y=\"val_id\", color='linea')\n",
        "fig7.show()"
      ],
      "id": "CFOm1C-y-l2G",
      "execution_count": null,
      "outputs": []
    },
    {
      "cell_type": "code",
      "metadata": {
        "id": "z7yfG-4D-n7I"
      },
      "source": [
        "# EDA\n",
        "# kennedy\n",
        "\n",
        "# Total validations per day for different bus stops\n",
        "\n",
        "valid_ken_pltlinead=valid_ken_raw[valid_ken_raw['val_month']==4].groupby(['fecha_clearing', 'linea'])['val_id'].count()\n",
        "valid_ken_pltlinead=valid_ken_pltlinead.reset_index()\n",
        "\n",
        "fig8 = px.line(valid_ken_pltlinead, x=\"fecha_clearing\", y=\"val_id\", color='linea')\n",
        "fig8.show()"
      ],
      "id": "z7yfG-4D-n7I",
      "execution_count": null,
      "outputs": []
    },
    {
      "cell_type": "code",
      "metadata": {
        "id": "m05Ezlqq-phg"
      },
      "source": [
        "# EDA\n",
        "# kennedy\n",
        "\n",
        "# Total validations per day for different bus lines\n",
        "\n",
        "valid_ken_pltlineah=valid_ken_raw[valid_ken_raw['val_month']==4].groupby(['val_hour', 'linea'])['val_id'].count()\n",
        "valid_ken_pltlineah=valid_ken_pltlineah.reset_index()\n",
        "\n",
        "fig9 = px.line(valid_ken_pltlineah, x=\"val_hour\", y=\"val_id\", color='linea')\n",
        "fig9.show()"
      ],
      "id": "m05Ezlqq-phg",
      "execution_count": null,
      "outputs": []
    },
    {
      "cell_type": "markdown",
      "metadata": {
        "id": "58PCXl1W9Wdc"
      },
      "source": [
        "#### Univariate analysis for Suba Oriental"
      ],
      "id": "58PCXl1W9Wdc"
    },
    {
      "cell_type": "code",
      "metadata": {
        "id": "vdK_EBAu9bf0"
      },
      "source": [
        "# EDA\n",
        "# suba oriental\n",
        "\n",
        "bar_hour_suba=valid_suba_raw.groupby(['val_hour'])['val_id'].count()\n",
        "bar_hour_suba=bar_hour_suba.reset_index()\n",
        "\n",
        "sns.barplot(data=bar_hour_suba, x='val_hour', y='val_id', palette=\"pastel\")"
      ],
      "id": "vdK_EBAu9bf0",
      "execution_count": null,
      "outputs": []
    },
    {
      "cell_type": "code",
      "metadata": {
        "id": "Pv1iBTZH9dkB"
      },
      "source": [
        "# EDA\n",
        "# suba oriental\n",
        "\n",
        "bar_weekday_suba=valid_suba_raw.groupby(['val_day_name'])['val_id'].count()\n",
        "bar_weekday_suba=bar_weekday_suba.reset_index()\n",
        "\n",
        "sns.barplot(data=bar_weekday_suba, x='val_day_name', y='val_id', palette=\"pastel\")\n",
        "plt.xticks(rotation=90)"
      ],
      "id": "Pv1iBTZH9dkB",
      "execution_count": null,
      "outputs": []
    },
    {
      "cell_type": "code",
      "metadata": {
        "id": "vcrVdc3W9fk7"
      },
      "source": [
        "# EDA\n",
        "# suba oriental\n",
        "\n",
        "bar_day_suba=valid_suba_raw.groupby(['val_date'])['val_id'].count()\n",
        "bar_day_suba=bar_day_suba.reset_index()\n",
        "\n",
        "sns.barplot(data=bar_day_suba, x='val_date', y='val_id', palette=\"pastel\")"
      ],
      "id": "vcrVdc3W9fk7",
      "execution_count": null,
      "outputs": []
    },
    {
      "cell_type": "code",
      "metadata": {
        "id": "bvvHtvQV9hsN"
      },
      "source": [
        "# EDA\n",
        "# suba oriental\n",
        "\n",
        "valid_suba_parada=valid_suba_raw.groupby(['parada'])['val_id'].count()\n",
        "valid_suba_parada=valid_suba_parada.reset_index().sort_values(by='val_id', ascending=False).head(30)\n",
        "\n",
        "f0, ax0 = plt.subplots(figsize=(15, 6))\n",
        "g0=sns.barplot(data=valid_suba_parada, x='parada', y='val_id', palette=\"pastel\", ax=ax0)\n",
        "plt.xticks(rotation=90)"
      ],
      "id": "bvvHtvQV9hsN",
      "execution_count": null,
      "outputs": []
    },
    {
      "cell_type": "code",
      "metadata": {
        "id": "vfD_4qlt9jMa"
      },
      "source": [
        "# EDA\n",
        "# suba oriental\n",
        "\n",
        "valid_suba_linea=valid_suba_raw.groupby(['linea'])['val_id'].count()\n",
        "valid_suba_linea=valid_suba_linea.reset_index().sort_values(by='val_id', ascending=False)\n",
        "\n",
        "f1, ax1 = plt.subplots(figsize=(17, 6))\n",
        "g1=sns.barplot(data=valid_suba_linea, x='linea', y='val_id', palette=\"pastel\", ax=ax1)\n",
        "plt.xticks(rotation=90)"
      ],
      "id": "vfD_4qlt9jMa",
      "execution_count": null,
      "outputs": []
    },
    {
      "cell_type": "code",
      "metadata": {
        "id": "LBlhWSzL9nmr"
      },
      "source": [
        "# EDA\n",
        "# suba oriental\n",
        "\n",
        "valid_suba_hmn_linea=pd.crosstab(index=valid_suba_raw[\"linea\"], columns=valid_suba_raw[\"val_hour\"], normalize=\"index\")*100\n",
        "\n",
        "f2, ax2 = plt.subplots(figsize=(20, 20))\n",
        "g2=sns.heatmap(valid_suba_hmn_linea, cmap=\"Reds\", ax=ax2, annot=True, fmt=\".2f\")"
      ],
      "id": "LBlhWSzL9nmr",
      "execution_count": null,
      "outputs": []
    },
    {
      "cell_type": "code",
      "metadata": {
        "id": "jzYarAcZ9pxN"
      },
      "source": [
        "# EDA\n",
        "# suba oriental\n",
        "\n",
        "valid_suba_hmn_parada_hour=pd.crosstab(index=valid_suba_raw[\"linea\"], columns=valid_suba_raw[\"val_hour\"], normalize=\"columns\")*100\n",
        "\n",
        "f3, ax3 = plt.subplots(figsize=(20, 20))\n",
        "g3=sns.heatmap(valid_suba_hmn_parada_hour, cmap=\"Reds\", ax=ax3, annot=True, fmt=\".2f\")"
      ],
      "id": "jzYarAcZ9pxN",
      "execution_count": null,
      "outputs": []
    },
    {
      "cell_type": "code",
      "metadata": {
        "id": "LH1YjyPa9sk9"
      },
      "source": [
        "# EDA\n",
        "# suba oriental\n",
        "\n",
        "valid_suba_hm_hourday=pd.crosstab(index=valid_suba_raw[\"val_day_name\"], columns=valid_suba_raw[\"val_hour\"])\n",
        "\n",
        "f4, ax4 = plt.subplots(figsize=(20, 8))\n",
        "g4=sns.heatmap(valid_suba_hm_hourday, cmap=\"Reds\" ,ax=ax4, annot=True, fmt=\"d\")"
      ],
      "id": "LH1YjyPa9sk9",
      "execution_count": null,
      "outputs": []
    },
    {
      "cell_type": "code",
      "metadata": {
        "id": "tqS3Xb_G9uQu"
      },
      "source": [
        "# EDA\n",
        "# suba oriental\n",
        "\n",
        "valid_suba_hmn_dayhour=pd.crosstab(index=valid_suba_raw[\"val_day_name\"], columns=valid_suba_raw[\"val_hour\"], normalize='index')\n",
        "\n",
        "f5, ax5 = plt.subplots(figsize=(15, 8))\n",
        "g5=sns.heatmap(valid_suba_hmn_dayhour, cmap=\"Reds\" ,ax=ax5, annot=True, fmt=\".2f\")"
      ],
      "id": "tqS3Xb_G9uQu",
      "execution_count": null,
      "outputs": []
    },
    {
      "cell_type": "code",
      "metadata": {
        "id": "WzBcCDVj9wG7"
      },
      "source": [
        "# EDA\n",
        "# suba oriental\n",
        "\n",
        "valid_suba_hmn_hourday=pd.crosstab(index=valid_suba_raw[\"val_day_name\"], columns=valid_suba_raw[\"val_hour\"], normalize='columns')\n",
        "\n",
        "f6, ax6 = plt.subplots(figsize=(15, 8))\n",
        "g6=sns.heatmap(valid_suba_hmn_hourday, cmap=\"Reds\" ,ax=ax6, annot=True, fmt=\".2f\")"
      ],
      "id": "WzBcCDVj9wG7",
      "execution_count": null,
      "outputs": []
    },
    {
      "cell_type": "code",
      "metadata": {
        "id": "yv_DIEpt9yFE"
      },
      "source": [
        "# EDA\n",
        "# suba oriental\n",
        "\n",
        "# Monthly average of validations for different bus stops\n",
        "\n",
        "unique_values_paradas=valid_suba_parada['parada'].unique()\n",
        "valid_suba_pltmeanparada=valid_suba_raw[valid_suba_raw['val_month']==4].groupby(['parada', 'val_hour', 'fecha_clearing'])['val_id'].count()\n",
        "valid_suba_pltmeanparada=valid_suba_pltmeanparada.reset_index()\n",
        "valid_suba_pltmeanparada=valid_suba_pltmeanparada[valid_suba_pltmeanparada['parada'].isin(unique_values_paradas)]\n",
        "valid_suba_pltmeanparada=valid_suba_pltmeanparada.groupby(['parada', 'val_hour'])['val_id'].mean().reset_index()\n",
        "\n",
        "fig7 = px.line(valid_suba_pltmeanparada, x=\"val_hour\", y=\"val_id\", color='parada')\n",
        "fig7.show()"
      ],
      "id": "yv_DIEpt9yFE",
      "execution_count": null,
      "outputs": []
    },
    {
      "cell_type": "code",
      "metadata": {
        "id": "f8omo4EL90A2"
      },
      "source": [
        "# EDA\n",
        "# suba oriental\n",
        "\n",
        "# Monthly average of validations for different bus lines\n",
        "\n",
        "valid_suba_pltmeanlinea=valid_suba_raw[valid_suba_raw['val_month']==4].groupby(['linea', 'val_hour', 'fecha_clearing'])['val_id'].count()\n",
        "valid_suba_pltmeanlinea=valid_suba_pltmeanlinea.reset_index()\n",
        "valid_suba_pltmeanlinea=valid_suba_pltmeanlinea.groupby(['linea', 'val_hour'])['val_id'].mean().reset_index()\n",
        "\n",
        "fig7 = px.line(valid_suba_pltmeanlinea, x=\"val_hour\", y=\"val_id\", color='linea')\n",
        "fig7.show()"
      ],
      "id": "f8omo4EL90A2",
      "execution_count": null,
      "outputs": []
    },
    {
      "cell_type": "code",
      "metadata": {
        "id": "eQpSCE-n92vI"
      },
      "source": [
        "# EDA\n",
        "# suba oriental\n",
        "\n",
        "# Total validations per day for different bus stops\n",
        "\n",
        "valid_suba_pltlinead=valid_suba_raw[valid_suba_raw['val_month']==4].groupby(['fecha_clearing', 'linea'])['val_id'].count()\n",
        "valid_suba_pltlinead=valid_suba_pltlinead.reset_index()\n",
        "\n",
        "fig8 = px.line(valid_suba_pltlinead, x=\"fecha_clearing\", y=\"val_id\", color='linea')\n",
        "fig8.show()"
      ],
      "id": "eQpSCE-n92vI",
      "execution_count": null,
      "outputs": []
    },
    {
      "cell_type": "code",
      "metadata": {
        "id": "yWcXhozR94_I"
      },
      "source": [
        "# EDA\n",
        "# suba oriental\n",
        "\n",
        "# Total validations per day for different bus lines\n",
        "\n",
        "valid_suba_pltlineah=valid_suba_raw[valid_suba_raw['val_month']==4].groupby(['val_hour', 'linea'])['val_id'].count()\n",
        "valid_suba_pltlineah=valid_suba_pltlineah.reset_index()\n",
        "\n",
        "fig9 = px.line(valid_suba_pltlineah, x=\"val_hour\", y=\"val_id\", color='linea')\n",
        "fig9.show()"
      ],
      "id": "yWcXhozR94_I",
      "execution_count": null,
      "outputs": []
    },
    {
      "cell_type": "markdown",
      "metadata": {
        "id": "arctic-drama"
      },
      "source": [
        "## Process for \"ProgramacionOperador\""
      ],
      "id": "arctic-drama"
    },
    {
      "cell_type": "markdown",
      "metadata": {
        "id": "Huwlh0ppAPl6"
      },
      "source": [
        "### Data loading"
      ],
      "id": "Huwlh0ppAPl6"
    },
    {
      "cell_type": "code",
      "metadata": {
        "id": "equal-least"
      },
      "source": [
        "operator_data = pd.read_csv( '/content/gdrive/MyDrive/data/Masivo_capital_5_programacion/Reporte Progrmacion de Operadores_202104.csv',sep=';', encoding='latin-1')\n",
        "operator_data"
      ],
      "id": "equal-least",
      "execution_count": null,
      "outputs": []
    },
    {
      "cell_type": "code",
      "metadata": {
        "id": "l_zL3JiZgWVm"
      },
      "source": [
        "operator_data.dtypes"
      ],
      "id": "l_zL3JiZgWVm",
      "execution_count": null,
      "outputs": []
    },
    {
      "cell_type": "code",
      "metadata": {
        "id": "bg67bW2Kg0Wq"
      },
      "source": [
        "time = pd.DatetimeIndex(operator_data['Amplitud del servicio'])\n",
        "operator_data['Amplitud del servicio'] = time.hour*60 + time.minute"
      ],
      "id": "bg67bW2Kg0Wq",
      "execution_count": null,
      "outputs": []
    },
    {
      "cell_type": "code",
      "metadata": {
        "id": "KuslfZLLsh-a"
      },
      "source": [
        "time2 = pd.DatetimeIndex(operator_data['Tiempo de producción'])\n",
        "operator_data['Tiempo de producción'] = time2.hour*60 + time2.minute"
      ],
      "id": "KuslfZLLsh-a",
      "execution_count": null,
      "outputs": []
    },
    {
      "cell_type": "code",
      "metadata": {
        "id": "ynukyhN3siBo"
      },
      "source": [
        "operator_data['Distancia de producción (m)'].isna().sum()"
      ],
      "id": "ynukyhN3siBo",
      "execution_count": null,
      "outputs": []
    },
    {
      "cell_type": "markdown",
      "metadata": {
        "id": "ij1lYQFNA1i7"
      },
      "source": [
        "### Cleanning"
      ],
      "id": "ij1lYQFNA1i7"
    },
    {
      "cell_type": "code",
      "metadata": {
        "id": "YC4jHuRMiItv"
      },
      "source": [
        "operator_data.columns = operator_data.columns.astype(str).str.strip()"
      ],
      "id": "YC4jHuRMiItv",
      "execution_count": null,
      "outputs": []
    },
    {
      "cell_type": "markdown",
      "metadata": {
        "id": "LI4mj4HRCd7F"
      },
      "source": [
        "#### Dropping columns"
      ],
      "id": "LI4mj4HRCd7F"
    },
    {
      "cell_type": "code",
      "metadata": {
        "id": "JYEAU9ugBaTM"
      },
      "source": [
        "fig, ax = plt.subplots(figsize=(18,10))\n",
        "sns.heatmap(operator_data.isna(), cmap='Reds',ax=ax)"
      ],
      "id": "JYEAU9ugBaTM",
      "execution_count": null,
      "outputs": []
    },
    {
      "cell_type": "code",
      "metadata": {
        "id": "0CIE-H4qC4H_"
      },
      "source": [
        "operator_data = operator_data.drop(['Unnamed: 17', 'Servicio Base', 'Unnamed: 21','Unnamed: 23'], axis=1)\n",
        "operator_data"
      ],
      "id": "0CIE-H4qC4H_",
      "execution_count": null,
      "outputs": []
    },
    {
      "cell_type": "markdown",
      "metadata": {
        "id": "I_I8nVjGGsX_"
      },
      "source": [
        "#### Casting"
      ],
      "id": "I_I8nVjGGsX_"
    },
    {
      "cell_type": "markdown",
      "metadata": {
        "id": "YEaueVvyGyZH"
      },
      "source": [
        "###### Time and Dates"
      ],
      "id": "YEaueVvyGyZH"
    },
    {
      "cell_type": "code",
      "metadata": {
        "id": "MLA51zVWG73t"
      },
      "source": [
        "operator_data['Fecha'] = pd.to_datetime(operator_data['Fecha'], dayfirst=True)\n",
        "operator_data['Amplitud del servicio'] = pd.to_datetime(operator_data['Amplitud del servicio'])\n",
        "operator_data['Tiempo de producción'] = pd.to_datetime(operator_data['Tiempo de producción'])\n",
        "operator_data['Duración'] = pd.to_datetime(operator_data['Duración'])"
      ],
      "id": "MLA51zVWG73t",
      "execution_count": null,
      "outputs": []
    },
    {
      "cell_type": "code",
      "metadata": {
        "id": "-ELSKQabJ-Mp"
      },
      "source": [
        "operator_data['Hora inicio'] = operator_data['Hora inicio'].replace(to_replace=r'(^24)', value='00', regex=True)\n",
        "operator_data['Hora inicio'] = operator_data['Hora inicio'].replace(to_replace=r'(^25)', value='01', regex=True)\n",
        "operator_data['Hora inicio'] = operator_data['Hora inicio'].replace(to_replace=r'(^26)', value='02', regex=True)\n",
        "operator_data['Hora inicio'] = pd.to_datetime(operator_data['Hora inicio'])"
      ],
      "id": "-ELSKQabJ-Mp",
      "execution_count": null,
      "outputs": []
    },
    {
      "cell_type": "markdown",
      "metadata": {
        "id": "P3uRv3VeKJDd"
      },
      "source": [
        "##### Categories"
      ],
      "id": "P3uRv3VeKJDd"
    },
    {
      "cell_type": "code",
      "metadata": {
        "id": "vZ7jihosKL-J"
      },
      "source": [
        "operator_data['Compañía'] = operator_data['Compañía'].astype('category')\n",
        "operator_data['Asignación'] = operator_data['Asignación'].astype('category')\n",
        "operator_data['Código de conductor'] = operator_data['Código de conductor'].astype('category')\n",
        "operator_data['Conductor'] = operator_data['Conductor'].astype('category')\n",
        "operator_data['Parte de trabajo'] = operator_data['Parte de trabajo'].astype('category')\n",
        "operator_data['Tipo de tarea'] = operator_data['Tipo de tarea'].astype('category')\n",
        "operator_data['Tipo de vehículo'] = operator_data['Tipo de vehículo'].astype('category')\n",
        "operator_data['Línea'] = operator_data['Línea'].astype('category')\n",
        "operator_data['Ruta'] = operator_data['Ruta'].astype('category')\n",
        "operator_data['Vehículo'] = operator_data['Vehículo'].astype('category')\n",
        "operator_data['Viajes'] = operator_data['Viajes'].astype('category')\n",
        "operator_data['Trayecto'] = operator_data['Trayecto'].astype('category')\n",
        "operator_data['Servicio vehículo'] = operator_data['Servicio vehículo'].astype('category')"
      ],
      "id": "vZ7jihosKL-J",
      "execution_count": null,
      "outputs": []
    },
    {
      "cell_type": "markdown",
      "metadata": {
        "id": "1soCVPLFMUT7"
      },
      "source": [
        "##### Numerical"
      ],
      "id": "1soCVPLFMUT7"
    },
    {
      "cell_type": "code",
      "metadata": {
        "id": "fND9UcxEMW1w"
      },
      "source": [
        "# Remove the \"meters\" units from the distance related fields\n",
        "operator_data['Distancia de producción (m)'] = operator_data['Distancia de producción (m)'].astype(str).replace(to_replace=r'(,)', value='.', regex=True)\n",
        "operator_data['Distancia de producción (m)'] = operator_data['Distancia de producción (m)'].astype(float)"
      ],
      "id": "fND9UcxEMW1w",
      "execution_count": null,
      "outputs": []
    },
    {
      "cell_type": "code",
      "metadata": {
        "id": "DycpDprkM840"
      },
      "source": [
        "operator_data['Distancia (m)'] = operator_data['Distancia (m)'].astype(str).replace(to_replace=r'(,)', value='.', regex=True)\n",
        "operator_data['Distancia (m)'] = operator_data['Distancia (m)'].astype(float)"
      ],
      "id": "DycpDprkM840",
      "execution_count": null,
      "outputs": []
    },
    {
      "cell_type": "markdown",
      "metadata": {
        "id": "N0hsCm7BjU_b"
      },
      "source": [
        "### Univariate analysis"
      ],
      "id": "N0hsCm7BjU_b"
    },
    {
      "cell_type": "markdown",
      "metadata": {
        "id": "OCbPqmcPoBLU"
      },
      "source": [
        "#### Numerical analysis"
      ],
      "id": "OCbPqmcPoBLU"
    },
    {
      "cell_type": "code",
      "metadata": {
        "id": "9Ou3wue-l70P"
      },
      "source": [
        "# Histogram for distance of travels\n",
        "fig,ax = plt.subplots()\n",
        "sns.histplot(operator_data['Distancia (m)'], ax=ax, bins=20)\n",
        "ax.tick_params(axis='x', rotation=90)\n",
        "fig.set_size_inches(18.5,10.5)"
      ],
      "id": "9Ou3wue-l70P",
      "execution_count": null,
      "outputs": []
    },
    {
      "cell_type": "code",
      "metadata": {
        "id": "tBOif9SlmkvH"
      },
      "source": [
        "# Histograms for effective (on duty) distance of travels\n",
        "fig,ax = plt.subplots()\n",
        "sns.histplot(operator_data['Distancia de producción (m)'], ax=ax, bins=20)\n",
        "ax.tick_params(axis='x', rotation=90)\n",
        "fig.set_size_inches(18.5,10.5)"
      ],
      "id": "tBOif9SlmkvH",
      "execution_count": null,
      "outputs": []
    },
    {
      "cell_type": "markdown",
      "metadata": {
        "id": "TO0rqcpsn7AK"
      },
      "source": [
        "#### Chronological analysis"
      ],
      "id": "TO0rqcpsn7AK"
    },
    {
      "cell_type": "code",
      "metadata": {
        "id": "Gpuu-Y_1nfo1"
      },
      "source": [
        "# Histogram for time of travels\n",
        "fig,ax = plt.subplots()\n",
        "sns.histplot(operator_data['Amplitud del servicio'], ax=ax, bins=20)\n",
        "ax.tick_params(axis='x', rotation=90)\n",
        "\n",
        "fig.set_size_inches(18.5,10.5)"
      ],
      "id": "Gpuu-Y_1nfo1",
      "execution_count": null,
      "outputs": []
    },
    {
      "cell_type": "code",
      "metadata": {
        "id": "QcZ3E3cWoTAS"
      },
      "source": [
        "# Histograms for effective (on duty) time of travels\n",
        "fig,ax = plt.subplots()\n",
        "sns.histplot(operator_data['Tiempo de producción'], ax=ax, bins=20)\n",
        "ax.tick_params(axis='x', rotation=90)\n",
        "fig.set_size_inches(18.5,10.5)"
      ],
      "id": "QcZ3E3cWoTAS",
      "execution_count": null,
      "outputs": []
    },
    {
      "cell_type": "code",
      "metadata": {
        "id": "GimB2-eRpXlk"
      },
      "source": [
        "# Histograms for departure times of travels\n",
        "fig,ax = plt.subplots()\n",
        "sns.histplot(operator_data['Hora inicio'], ax=ax, bins=20)\n",
        "ax.tick_params(axis='x', rotation=90)\n",
        "fig.set_size_inches(18.5,10.5)"
      ],
      "id": "GimB2-eRpXlk",
      "execution_count": null,
      "outputs": []
    },
    {
      "cell_type": "markdown",
      "metadata": {
        "id": "advised-heading"
      },
      "source": [
        "## Process for \"MatrizDistancia\""
      ],
      "id": "advised-heading"
    },
    {
      "cell_type": "code",
      "metadata": {
        "id": "Uc-uegLIvKIy"
      },
      "source": [
        "distance_data = pd.read_csv( 'Reporte de Matriz Distancias - Paradas SAE_202104.csv',sep=';', encoding='latin-1')"
      ],
      "id": "Uc-uegLIvKIy",
      "execution_count": null,
      "outputs": []
    },
    {
      "cell_type": "code",
      "metadata": {
        "id": "W0ZUS679Piww"
      },
      "source": [
        "DIST_PATH = \"data/6. Reporte de Matriz Distancias - Paradas SAE/Reporte de Matriz Distancias - Paradas SAE_202104.csv\""
      ],
      "id": "W0ZUS679Piww",
      "execution_count": null,
      "outputs": []
    },
    {
      "cell_type": "code",
      "metadata": {
        "id": "nH_CRT2qvLsD",
        "colab": {
          "base_uri": "https://localhost:8080/",
          "height": 49
        },
        "outputId": "68228725-daed-4286-9f89-1f40799129c0"
      },
      "source": [
        "df = distance_data\n",
        "\n",
        "df[(df['ID Ruta'] == 400) & (df['Posicion'] == 2)].sort_values(by='Posicion')"
      ],
      "id": "nH_CRT2qvLsD",
      "execution_count": null,
      "outputs": [
        {
          "output_type": "execute_result",
          "data": {
            "text/html": [
              "<div>\n",
              "<style scoped>\n",
              "    .dataframe tbody tr th:only-of-type {\n",
              "        vertical-align: middle;\n",
              "    }\n",
              "\n",
              "    .dataframe tbody tr th {\n",
              "        vertical-align: top;\n",
              "    }\n",
              "\n",
              "    .dataframe thead th {\n",
              "        text-align: right;\n",
              "    }\n",
              "</style>\n",
              "<table border=\"1\" class=\"dataframe\">\n",
              "  <thead>\n",
              "    <tr style=\"text-align: right;\">\n",
              "      <th></th>\n",
              "      <th>StrLinea</th>\n",
              "      <th>ConfigAct</th>\n",
              "      <th>ConfigFecha</th>\n",
              "      <th>Sublinea</th>\n",
              "      <th>StrRuta</th>\n",
              "      <th>TipoNodo</th>\n",
              "      <th>Nodo</th>\n",
              "      <th>Nombre</th>\n",
              "      <th>Posicion</th>\n",
              "      <th>StrTipoServicio</th>\n",
              "      <th>Linea</th>\n",
              "      <th>ID Ruta</th>\n",
              "    </tr>\n",
              "  </thead>\n",
              "  <tbody>\n",
              "  </tbody>\n",
              "</table>\n",
              "</div>"
            ],
            "text/plain": [
              "Empty DataFrame\n",
              "Columns: [StrLinea, ConfigAct, ConfigFecha, Sublinea, StrRuta, TipoNodo, Nodo, Nombre, Posicion, StrTipoServicio, Linea, ID Ruta]\n",
              "Index: []"
            ]
          },
          "metadata": {
            "tags": []
          },
          "execution_count": 10
        }
      ]
    },
    {
      "cell_type": "code",
      "metadata": {
        "id": "1ULJWX1ewBGf"
      },
      "source": [
        "df.to_csv('matriz_distancia.csv', encoding='utf-8-sig')"
      ],
      "id": "1ULJWX1ewBGf",
      "execution_count": null,
      "outputs": []
    },
    {
      "cell_type": "markdown",
      "metadata": {
        "id": "rMHai6JHVz2f"
      },
      "source": [
        "### Características del Dataset"
      ],
      "id": "rMHai6JHVz2f"
    },
    {
      "cell_type": "code",
      "metadata": {
        "id": "cdah7IepWOra",
        "colab": {
          "base_uri": "https://localhost:8080/"
        },
        "outputId": "e52ca0a7-2bc0-435c-946c-c5da3eaa6f55"
      },
      "source": [
        "df = distance_data\n",
        "#df = pd.read_csv(DIST_PATH, delimiter=\";\", encoding='latin-1')\n",
        "df.columns"
      ],
      "id": "cdah7IepWOra",
      "execution_count": null,
      "outputs": [
        {
          "output_type": "execute_result",
          "data": {
            "text/plain": [
              "Index(['StrLinea', 'ConfigAct', 'ConfigFecha', 'Sublinea', 'StrRuta',\n",
              "       'TipoNodo', 'Nodo', 'Nombre', 'Posicion', 'StrTipoServicio', 'Linea',\n",
              "       'ID Ruta'],\n",
              "      dtype='object')"
            ]
          },
          "metadata": {
            "tags": []
          },
          "execution_count": 12
        }
      ]
    },
    {
      "cell_type": "code",
      "metadata": {
        "id": "Y7Rnx3EiV8tb",
        "colab": {
          "base_uri": "https://localhost:8080/"
        },
        "outputId": "98090042-5461-4d80-9308-90edd196a935"
      },
      "source": [
        "\n",
        "df.info()"
      ],
      "id": "Y7Rnx3EiV8tb",
      "execution_count": null,
      "outputs": [
        {
          "output_type": "stream",
          "text": [
            "<class 'pandas.core.frame.DataFrame'>\n",
            "RangeIndex: 351746 entries, 0 to 351745\n",
            "Data columns (total 12 columns):\n",
            " #   Column           Non-Null Count   Dtype  \n",
            "---  ------           --------------   -----  \n",
            " 0   StrLinea         351746 non-null  object \n",
            " 1   ConfigAct        351746 non-null  int64  \n",
            " 2   ConfigFecha      351746 non-null  int64  \n",
            " 3   Sublinea         351746 non-null  int64  \n",
            " 4   StrRuta          351746 non-null  object \n",
            " 5   TipoNodo         351746 non-null  int64  \n",
            " 6   Nodo             351746 non-null  int64  \n",
            " 7   Nombre           351744 non-null  object \n",
            " 8   Posicion         351745 non-null  float64\n",
            " 9   StrTipoServicio  351745 non-null  object \n",
            " 10  Linea            351745 non-null  float64\n",
            " 11  ID Ruta          351745 non-null  float64\n",
            "dtypes: float64(3), int64(5), object(4)\n",
            "memory usage: 32.2+ MB\n"
          ],
          "name": "stdout"
        }
      ]
    },
    {
      "cell_type": "code",
      "metadata": {
        "id": "VUOfBbSsWNRg",
        "colab": {
          "base_uri": "https://localhost:8080/",
          "height": 304
        },
        "outputId": "f9079866-e0fb-4ee1-9846-c7cff9a23f26"
      },
      "source": [
        "df.head()"
      ],
      "id": "VUOfBbSsWNRg",
      "execution_count": null,
      "outputs": [
        {
          "output_type": "execute_result",
          "data": {
            "text/html": [
              "<div>\n",
              "<style scoped>\n",
              "    .dataframe tbody tr th:only-of-type {\n",
              "        vertical-align: middle;\n",
              "    }\n",
              "\n",
              "    .dataframe tbody tr th {\n",
              "        vertical-align: top;\n",
              "    }\n",
              "\n",
              "    .dataframe thead th {\n",
              "        text-align: right;\n",
              "    }\n",
              "</style>\n",
              "<table border=\"1\" class=\"dataframe\">\n",
              "  <thead>\n",
              "    <tr style=\"text-align: right;\">\n",
              "      <th></th>\n",
              "      <th>StrLinea</th>\n",
              "      <th>ConfigAct</th>\n",
              "      <th>ConfigFecha</th>\n",
              "      <th>Sublinea</th>\n",
              "      <th>StrRuta</th>\n",
              "      <th>TipoNodo</th>\n",
              "      <th>Nodo</th>\n",
              "      <th>Nombre</th>\n",
              "      <th>Posicion</th>\n",
              "      <th>StrTipoServicio</th>\n",
              "      <th>Linea</th>\n",
              "      <th>ID Ruta</th>\n",
              "    </tr>\n",
              "  </thead>\n",
              "  <tbody>\n",
              "    <tr>\n",
              "      <th>0</th>\n",
              "      <td>[121] DUAL80</td>\n",
              "      <td>8</td>\n",
              "      <td>8</td>\n",
              "      <td>294</td>\n",
              "      <td>[400] M80-L80 Normal</td>\n",
              "      <td>1</td>\n",
              "      <td>1970</td>\n",
              "      <td>PORTAL 20 DE JULIO T7</td>\n",
              "      <td>0.0</td>\n",
              "      <td>[5] PADRON</td>\n",
              "      <td>121.0</td>\n",
              "      <td>400.0</td>\n",
              "    </tr>\n",
              "    <tr>\n",
              "      <th>1</th>\n",
              "      <td>[121] DUAL80</td>\n",
              "      <td>8</td>\n",
              "      <td>8</td>\n",
              "      <td>294</td>\n",
              "      <td>[400] M80-L80 Normal</td>\n",
              "      <td>1</td>\n",
              "      <td>1940</td>\n",
              "      <td>Country Sur B - 4 ó 6</td>\n",
              "      <td>1129.0</td>\n",
              "      <td>[5] PADRON</td>\n",
              "      <td>121.0</td>\n",
              "      <td>400.0</td>\n",
              "    </tr>\n",
              "    <tr>\n",
              "      <th>2</th>\n",
              "      <td>[121] DUAL80</td>\n",
              "      <td>8</td>\n",
              "      <td>8</td>\n",
              "      <td>294</td>\n",
              "      <td>[400] M80-L80 Normal</td>\n",
              "      <td>1</td>\n",
              "      <td>1977</td>\n",
              "      <td>Av. 1º de Mayo B - 4 ó 6</td>\n",
              "      <td>1926.0</td>\n",
              "      <td>[5] PADRON</td>\n",
              "      <td>121.0</td>\n",
              "      <td>400.0</td>\n",
              "    </tr>\n",
              "    <tr>\n",
              "      <th>3</th>\n",
              "      <td>[121] DUAL80</td>\n",
              "      <td>8</td>\n",
              "      <td>8</td>\n",
              "      <td>294</td>\n",
              "      <td>[400] M80-L80 Normal</td>\n",
              "      <td>1</td>\n",
              "      <td>1939</td>\n",
              "      <td>Ciudad Jardín-UAN B - 4 ó 6</td>\n",
              "      <td>2554.0</td>\n",
              "      <td>[5] PADRON</td>\n",
              "      <td>121.0</td>\n",
              "      <td>400.0</td>\n",
              "    </tr>\n",
              "    <tr>\n",
              "      <th>4</th>\n",
              "      <td>[121] DUAL80</td>\n",
              "      <td>8</td>\n",
              "      <td>8</td>\n",
              "      <td>294</td>\n",
              "      <td>[400] M80-L80 Normal</td>\n",
              "      <td>1</td>\n",
              "      <td>1960</td>\n",
              "      <td>Policarpa A - 3 ó 6</td>\n",
              "      <td>3151.0</td>\n",
              "      <td>[5] PADRON</td>\n",
              "      <td>121.0</td>\n",
              "      <td>400.0</td>\n",
              "    </tr>\n",
              "  </tbody>\n",
              "</table>\n",
              "</div>"
            ],
            "text/plain": [
              "       StrLinea  ConfigAct  ConfigFecha  ...  StrTipoServicio  Linea  ID Ruta\n",
              "0  [121] DUAL80          8            8  ...       [5] PADRON  121.0    400.0\n",
              "1  [121] DUAL80          8            8  ...       [5] PADRON  121.0    400.0\n",
              "2  [121] DUAL80          8            8  ...       [5] PADRON  121.0    400.0\n",
              "3  [121] DUAL80          8            8  ...       [5] PADRON  121.0    400.0\n",
              "4  [121] DUAL80          8            8  ...       [5] PADRON  121.0    400.0\n",
              "\n",
              "[5 rows x 12 columns]"
            ]
          },
          "metadata": {
            "tags": []
          },
          "execution_count": 14
        }
      ]
    },
    {
      "cell_type": "markdown",
      "metadata": {
        "id": "fhKsxPBNWkRr"
      },
      "source": [
        "### Most frequently used Lines and Routes"
      ],
      "id": "fhKsxPBNWkRr"
    },
    {
      "cell_type": "code",
      "metadata": {
        "id": "YGU3MknaWhnj"
      },
      "source": [
        "def unique_columns(df,columns):\n",
        "\n",
        "    result = pd.Series(index = df.index)\n",
        "\n",
        "    groups = meta_data_csv.groupby(by = columns)\n",
        "    for name,group in groups:\n",
        "        is_unique = len(group) == 1\n",
        "        result.loc[group.index] = is_unique\n",
        "\n",
        "    assert not result.isnull().any()\n",
        "\n",
        "    return result\n",
        "\n",
        "rutas_comunes = df.groupby(['Linea','ID Ruta']).size().reset_index().rename(columns={0:'count'})"
      ],
      "id": "YGU3MknaWhnj",
      "execution_count": null,
      "outputs": []
    },
    {
      "cell_type": "code",
      "metadata": {
        "id": "e1lMiVv5Wo_O",
        "colab": {
          "base_uri": "https://localhost:8080/",
          "height": 417
        },
        "outputId": "6e210858-9c32-4dec-be07-f821bc299425"
      },
      "source": [
        "rutas_comunes.sort_values(by=[\"count\"], ascending=False)"
      ],
      "id": "e1lMiVv5Wo_O",
      "execution_count": null,
      "outputs": [
        {
          "output_type": "execute_result",
          "data": {
            "text/html": [
              "<div>\n",
              "<style scoped>\n",
              "    .dataframe tbody tr th:only-of-type {\n",
              "        vertical-align: middle;\n",
              "    }\n",
              "\n",
              "    .dataframe tbody tr th {\n",
              "        vertical-align: top;\n",
              "    }\n",
              "\n",
              "    .dataframe thead th {\n",
              "        text-align: right;\n",
              "    }\n",
              "</style>\n",
              "<table border=\"1\" class=\"dataframe\">\n",
              "  <thead>\n",
              "    <tr style=\"text-align: right;\">\n",
              "      <th></th>\n",
              "      <th>Linea</th>\n",
              "      <th>ID Ruta</th>\n",
              "      <th>count</th>\n",
              "    </tr>\n",
              "  </thead>\n",
              "  <tbody>\n",
              "    <tr>\n",
              "      <th>1056</th>\n",
              "      <td>184.0</td>\n",
              "      <td>2680.0</td>\n",
              "      <td>696</td>\n",
              "    </tr>\n",
              "    <tr>\n",
              "      <th>3163</th>\n",
              "      <td>773.0</td>\n",
              "      <td>2675.0</td>\n",
              "      <td>605</td>\n",
              "    </tr>\n",
              "    <tr>\n",
              "      <th>1258</th>\n",
              "      <td>216.0</td>\n",
              "      <td>2054.0</td>\n",
              "      <td>576</td>\n",
              "    </tr>\n",
              "    <tr>\n",
              "      <th>3475</th>\n",
              "      <td>947.0</td>\n",
              "      <td>3984.0</td>\n",
              "      <td>572</td>\n",
              "    </tr>\n",
              "    <tr>\n",
              "      <th>3476</th>\n",
              "      <td>947.0</td>\n",
              "      <td>3985.0</td>\n",
              "      <td>572</td>\n",
              "    </tr>\n",
              "    <tr>\n",
              "      <th>...</th>\n",
              "      <td>...</td>\n",
              "      <td>...</td>\n",
              "      <td>...</td>\n",
              "    </tr>\n",
              "    <tr>\n",
              "      <th>1767</th>\n",
              "      <td>311.0</td>\n",
              "      <td>1489.0</td>\n",
              "      <td>2</td>\n",
              "    </tr>\n",
              "    <tr>\n",
              "      <th>1762</th>\n",
              "      <td>310.0</td>\n",
              "      <td>1477.0</td>\n",
              "      <td>2</td>\n",
              "    </tr>\n",
              "    <tr>\n",
              "      <th>2579</th>\n",
              "      <td>549.0</td>\n",
              "      <td>1299.0</td>\n",
              "      <td>2</td>\n",
              "    </tr>\n",
              "    <tr>\n",
              "      <th>3519</th>\n",
              "      <td>960.0</td>\n",
              "      <td>4041.0</td>\n",
              "      <td>1</td>\n",
              "    </tr>\n",
              "    <tr>\n",
              "      <th>720</th>\n",
              "      <td>125.0</td>\n",
              "      <td>1639.0</td>\n",
              "      <td>1</td>\n",
              "    </tr>\n",
              "  </tbody>\n",
              "</table>\n",
              "<p>4158 rows × 3 columns</p>\n",
              "</div>"
            ],
            "text/plain": [
              "      Linea  ID Ruta  count\n",
              "1056  184.0   2680.0    696\n",
              "3163  773.0   2675.0    605\n",
              "1258  216.0   2054.0    576\n",
              "3475  947.0   3984.0    572\n",
              "3476  947.0   3985.0    572\n",
              "...     ...      ...    ...\n",
              "1767  311.0   1489.0      2\n",
              "1762  310.0   1477.0      2\n",
              "2579  549.0   1299.0      2\n",
              "3519  960.0   4041.0      1\n",
              "720   125.0   1639.0      1\n",
              "\n",
              "[4158 rows x 3 columns]"
            ]
          },
          "metadata": {
            "tags": []
          },
          "execution_count": 22
        }
      ]
    },
    {
      "cell_type": "markdown",
      "metadata": {
        "id": "0ZTCqfSNW_Ml"
      },
      "source": [
        "### Unique values"
      ],
      "id": "0ZTCqfSNW_Ml"
    },
    {
      "cell_type": "code",
      "metadata": {
        "id": "8RMrka0lWs9c",
        "colab": {
          "base_uri": "https://localhost:8080/"
        },
        "outputId": "a18b3719-bd9f-4a09-f75d-0081df3a2bf6"
      },
      "source": [
        "lineas = df.Linea.unique()\n",
        "print(\"Number of unique lines: \", len(lineas) )\n",
        "id_rutas = df[\"ID Ruta\"].unique()\n",
        "print(\"Number of unique routes: \", len(id_rutas))"
      ],
      "id": "8RMrka0lWs9c",
      "execution_count": null,
      "outputs": [
        {
          "output_type": "stream",
          "text": [
            "Número de líneas únicas:  1077\n",
            "Número de rutas únicas:  3819\n"
          ],
          "name": "stdout"
        }
      ]
    },
    {
      "cell_type": "markdown",
      "metadata": {
        "id": "68G5rp1WXH0X"
      },
      "source": [
        "### Null values analysis"
      ],
      "id": "68G5rp1WXH0X"
    },
    {
      "cell_type": "code",
      "metadata": {
        "id": "BIePkDz6W6O6",
        "colab": {
          "base_uri": "https://localhost:8080/"
        },
        "outputId": "5c011455-c187-443a-d1aa-f03440256582"
      },
      "source": [
        "df.isnull().sum()"
      ],
      "id": "BIePkDz6W6O6",
      "execution_count": null,
      "outputs": [
        {
          "output_type": "execute_result",
          "data": {
            "text/plain": [
              "StrLinea           0\n",
              "ConfigAct          0\n",
              "ConfigFecha        0\n",
              "Sublinea           0\n",
              "StrRuta            0\n",
              "TipoNodo           0\n",
              "Nodo               0\n",
              "Nombre             2\n",
              "Posicion           1\n",
              "StrTipoServicio    1\n",
              "Linea              1\n",
              "ID Ruta            1\n",
              "dtype: int64"
            ]
          },
          "metadata": {
            "tags": []
          },
          "execution_count": 18
        }
      ]
    },
    {
      "cell_type": "markdown",
      "metadata": {
        "id": "1wpQZ2hvXR4_"
      },
      "source": [
        "### Histograms"
      ],
      "id": "1wpQZ2hvXR4_"
    },
    {
      "cell_type": "code",
      "metadata": {
        "id": "S_cecVoIXLDn",
        "colab": {
          "base_uri": "https://localhost:8080/",
          "height": 1000
        },
        "outputId": "4e174f04-485c-4e85-f031-c01db6ff721d"
      },
      "source": [
        "for column in df:\n",
        "    plt.figure(column)\n",
        "    plt.title(column)\n",
        "    if ptypes.is_numeric_dtype(df[column]):\n",
        "        df[column].plot(kind=\"hist\", color=\"red\")\n",
        "    elif ptypes.is_string_dtype(df[column]):\n",
        "        df[column].value_counts()[:10].plot(kind=\"bar\", color=\"red\")"
      ],
      "id": "S_cecVoIXLDn",
      "execution_count": null,
      "outputs": [
        {
          "output_type": "display_data",
          "data": {
            "image/png": "[encoded data removed]",
            "text/plain": [
              "<Figure size 432x288 with 1 Axes>"
            ]
          },
          "metadata": {
            "tags": [],
            "needs_background": "light"
          }
        },
        {
          "output_type": "display_data",
          "data": {
            "image/png": "[encoded data removed]",
            "text/plain": [
              "<Figure size 432x288 with 1 Axes>"
            ]
          },
          "metadata": {
            "tags": [],
            "needs_background": "light"
          }
        },
        {
          "output_type": "display_data",
          "data": {
            "image/png": "[encoded data removed]",
            "text/plain": [
              "<Figure size 432x288 with 1 Axes>"
            ]
          },
          "metadata": {
            "tags": [],
            "needs_background": "light"
          }
        },
        {
          "output_type": "display_data",
          "data": {
            "image/png": "[encoded data removed]",
            "text/plain": [
              "<Figure size 432x288 with 1 Axes>"
            ]
          },
          "metadata": {
            "tags": [],
            "needs_background": "light"
          }
        },
        {
          "output_type": "display_data",
          "data": {
            "image/png": "[encoded data removed]",
            "text/plain": [
              "<Figure size 432x288 with 1 Axes>"
            ]
          },
          "metadata": {
            "tags": [],
            "needs_background": "light"
          }
        },
        {
          "output_type": "display_data",
          "data": {
            "image/png": "[encoded data removed]",
            "text/plain": [
              "<Figure size 432x288 with 1 Axes>"
            ]
          },
          "metadata": {
            "tags": [],
            "needs_background": "light"
          }
        },
        {
          "output_type": "display_data",
          "data": {
            "image/png": "[encoded data removed]",
            "text/plain": [
              "<Figure size 432x288 with 1 Axes>"
            ]
          },
          "metadata": {
            "tags": [],
            "needs_background": "light"
          }
        },
        {
          "output_type": "display_data",
          "data": {
            "image/png": "[encoded data removed]",
            "text/plain": [
              "<Figure size 432x288 with 1 Axes>"
            ]
          },
          "metadata": {
            "tags": [],
            "needs_background": "light"
          }
        },
        {
          "output_type": "display_data",
          "data": {
            "image/png": "[encoded data removed]",
            "text/plain": [
              "<Figure size 432x288 with 1 Axes>"
            ]
          },
          "metadata": {
            "tags": [],
            "needs_background": "light"
          }
        },
        {
          "output_type": "display_data",
          "data": {
            "image/png": "[encoded data removed]",
            "text/plain": [
              "<Figure size 432x288 with 1 Axes>"
            ]
          },
          "metadata": {
            "tags": [],
            "needs_background": "light"
          }
        },
        {
          "output_type": "display_data",
          "data": {
            "image/png": "[encoded data removed]",
            "text/plain": [
              "<Figure size 432x288 with 1 Axes>"
            ]
          },
          "metadata": {
            "tags": [],
            "needs_background": "light"
          }
        },
        {
          "output_type": "display_data",
          "data": {
            "image/png": "[encoded data removed]",
            "text/plain": [
              "<Figure size 432x288 with 1 Axes>"
            ]
          },
          "metadata": {
            "tags": [],
            "needs_background": "light"
          }
        }
      ]
    },
    {
      "cell_type": "markdown",
      "metadata": {
        "id": "aH_kI991yixN"
      },
      "source": [
        "### Data cleaning\n",
        "\n",
        "We used two regex for extracting and filtering bus stops identifiers (\"Cenefa Paradaero\") a Regex that searched for 6 continous alphanumeric characters and a regex that discarded all non-valid characters "
      ],
      "id": "aH_kI991yixN"
    },
    {
      "cell_type": "code",
      "metadata": {
        "id": "npW5mGWcxILs"
      },
      "source": [
        "df_matriz = pd.read_csv(\"Reporte de Matriz Distancias - Paradas SAE_202104.csv\", delimiter=\";\", encoding=\"latin1\") \n",
        "df_paraderos = pd.read_csv(\"paraderos_clean.csv\", delimiter=\",\", encoding=\"latin1\")\n",
        "df_locations = pd.read_csv(\"paraderos-sitp.csv\", delimiter=\";\", encoding=\"latin1\")\n"
      ],
      "id": "npW5mGWcxILs",
      "execution_count": null,
      "outputs": []
    },
    {
      "cell_type": "markdown",
      "metadata": {
        "id": "ZX2jiH-ixi0I"
      },
      "source": [
        "### Search function in dataframes\n",
        "\n",
        "search_df ->  Searches for items in a series in a column in given dataframe <br/>\n",
        "simple_search_df ->  Searches for single string items in a column in a dataframe <br/>\n",
        "int_search_df -> Searches for integer item in a column in a given dataframe <br/>\n",
        "select_subset -> Select subset of dataframe (for algorithm speed testing befor implementing a complex search) <br/>\n",
        "count_colums ->  counts for ocurrences of unique row items in a dataframe, returns count and percentage <br/>\n",
        "assign_points ->  used to assign geographic points to dataframe with coincidences in Paradero <br/>\n",
        "count_cenefa ->  group total count by cenefa <br/>"
      ],
      "id": "ZX2jiH-ixi0I"
    },
    {
      "cell_type": "code",
      "metadata": {
        "id": "a2hHVowAxlYf"
      },
      "source": [
        "def search_df(df, search_term, column=\"Nombre\"):\n",
        "    \"\"\"Search for word in search_term in column given return all ocurrences\"\"\"\n",
        "    search_term.to_list()\n",
        "    return df[df[column].str.contains(\"|\".join(search_term), na=False)]\n",
        "\n",
        "def simple_search_df(df, search_term, column=\"Nombre\"):\n",
        "    \"\"\"Search for word in search_term in column given return all ocurrences\"\"\"\n",
        "    return df[df[column].str.contains(search_term, na=False)]\n",
        "\n",
        "def int_search_df(df, num, column=\"Ruta SAE\"):\n",
        "    \"\"\"Search for word in search_term in column given return all ocurrences\"\"\"\n",
        "    return df[df[column]==num]\n",
        "\n",
        "def select_subset(df, percent):\n",
        "    \"\"\"select a subset of a dataframe of percent given\"\"\"\n",
        "    return df.sample(frac=percent)\n",
        "\n",
        "def count_columns(df, column):\n",
        "    \"\"\"count ocurrences of elements given in column and return dataframe with ocurrences and number of ocurrences\"\"\"\n",
        "    df_count = pd.DataFrame(df[column].value_counts())\n",
        "    df_count.columns = ['count']\n",
        "    df_count['percent'] = df_count['count'] / df_count['count'].sum() * 100\n",
        "    return df_count\n",
        "\n",
        "def assing_points(df1, df2):\n",
        "    \"\"\"Assign values of columns 'PosX', 'PosY' and geopoint by matching 'Cenefa Paradero' in both given dataframes.\n",
        "    \"\"\"\n",
        "    df1['PosX'] = df1['Cenefa Paradero'].apply(lambda x: df2.loc[df2['Cenefa Paradero'] == x, 'PosX'].iloc[0])\n",
        "    df1['PosY'] = df1['Cenefa Paradero'].apply(lambda x: df2.loc[df2['Cenefa Paradero'] == x, 'PosY'].iloc[0])\n",
        "    df1['geopoint'] = df1['Cenefa Paradero'].apply(lambda x: df2.loc[df2['Cenefa Paradero'] == x, 'geopoint'].iloc[0])\n",
        "    return df1\n",
        "\n",
        "def count_cenefa(df):\n",
        "    \"\"\"Count ocurrences of values in 'Cenefa Paradero column' and return as a new column 'count' keep 'PosX' and 'PosY' columns taking first ocurrences in those columns\"\"\"\n",
        "    df['count'] = df['Cenefa Paradero'].value_counts()\n",
        "    return df\n"
      ],
      "id": "a2hHVowAxlYf",
      "execution_count": null,
      "outputs": []
    },
    {
      "cell_type": "markdown",
      "metadata": {
        "id": "mwOz2yhKxrtS"
      },
      "source": [
        "### Search for coincidences of \"Cenefa Parqueadero\" in locations with \"Parada\" in df_paraderos"
      ],
      "id": "mwOz2yhKxrtS"
    },
    {
      "cell_type": "code",
      "metadata": {
        "colab": {
          "base_uri": "https://localhost:8080/",
          "height": 203
        },
        "id": "Z3F7AvOxx1Ib",
        "outputId": "deeda8b1-964b-4383-b214-71f3427df1f9"
      },
      "source": [
        "df_paraderos.head(5)"
      ],
      "id": "Z3F7AvOxx1Ib",
      "execution_count": null,
      "outputs": [
        {
          "output_type": "execute_result",
          "data": {
            "text/html": [
              "<div>\n",
              "<style scoped>\n",
              "    .dataframe tbody tr th:only-of-type {\n",
              "        vertical-align: middle;\n",
              "    }\n",
              "\n",
              "    .dataframe tbody tr th {\n",
              "        vertical-align: top;\n",
              "    }\n",
              "\n",
              "    .dataframe thead th {\n",
              "        text-align: right;\n",
              "    }\n",
              "</style>\n",
              "<table border=\"1\" class=\"dataframe\">\n",
              "  <thead>\n",
              "    <tr style=\"text-align: right;\">\n",
              "      <th></th>\n",
              "      <th>,Parada</th>\n",
              "    </tr>\n",
              "  </thead>\n",
              "  <tbody>\n",
              "    <tr>\n",
              "      <th>0</th>\n",
              "      <td>0,212A12</td>\n",
              "    </tr>\n",
              "    <tr>\n",
              "      <th>1</th>\n",
              "      <td>1,212A12</td>\n",
              "    </tr>\n",
              "    <tr>\n",
              "      <th>2</th>\n",
              "      <td>2,212A12</td>\n",
              "    </tr>\n",
              "    <tr>\n",
              "      <th>3</th>\n",
              "      <td>3,212A12</td>\n",
              "    </tr>\n",
              "    <tr>\n",
              "      <th>4</th>\n",
              "      <td>4,212A12</td>\n",
              "    </tr>\n",
              "  </tbody>\n",
              "</table>\n",
              "</div>"
            ],
            "text/plain": [
              "    ,Parada\n",
              "0  0,212A12\n",
              "1  1,212A12\n",
              "2  2,212A12\n",
              "3  3,212A12\n",
              "4  4,212A12"
            ]
          },
          "metadata": {
            "tags": []
          },
          "execution_count": 28
        }
      ]
    },
    {
      "cell_type": "code",
      "metadata": {
        "colab": {
          "base_uri": "https://localhost:8080/",
          "height": 203
        },
        "id": "g4TjwNTFxsJr",
        "outputId": "eab805d9-d5b7-4a1b-b8f7-1ed2eae63232"
      },
      "source": [
        "# count unique paradas\n",
        "\n",
        "count_paradas = count_columns(df_paraderos, \"Parada\")\n",
        "count_paradas.reset_index(level=0, inplace=True)\n",
        "count_paradas.rename(columns={\"index\":\"Paradas\"}, inplace=True)\n",
        "count_paradas.head(5)"
      ],
      "id": "g4TjwNTFxsJr",
      "execution_count": null,
      "outputs": [
        {
          "output_type": "execute_result",
          "data": {
            "text/html": [
              "<div>\n",
              "<style scoped>\n",
              "    .dataframe tbody tr th:only-of-type {\n",
              "        vertical-align: middle;\n",
              "    }\n",
              "\n",
              "    .dataframe tbody tr th {\n",
              "        vertical-align: top;\n",
              "    }\n",
              "\n",
              "    .dataframe thead th {\n",
              "        text-align: right;\n",
              "    }\n",
              "</style>\n",
              "<table border=\"1\" class=\"dataframe\">\n",
              "  <thead>\n",
              "    <tr style=\"text-align: right;\">\n",
              "      <th></th>\n",
              "      <th>Paradas</th>\n",
              "      <th>count</th>\n",
              "      <th>percent</th>\n",
              "    </tr>\n",
              "  </thead>\n",
              "  <tbody>\n",
              "    <tr>\n",
              "      <th>0</th>\n",
              "      <td>603A08</td>\n",
              "      <td>47571</td>\n",
              "      <td>0.959889</td>\n",
              "    </tr>\n",
              "    <tr>\n",
              "      <th>1</th>\n",
              "      <td>663A08</td>\n",
              "      <td>46554</td>\n",
              "      <td>0.939368</td>\n",
              "    </tr>\n",
              "    <tr>\n",
              "      <th>2</th>\n",
              "      <td>210A08</td>\n",
              "      <td>43496</td>\n",
              "      <td>0.877664</td>\n",
              "    </tr>\n",
              "    <tr>\n",
              "      <th>3</th>\n",
              "      <td>367A02</td>\n",
              "      <td>43016</td>\n",
              "      <td>0.867978</td>\n",
              "    </tr>\n",
              "    <tr>\n",
              "      <th>4</th>\n",
              "      <td>160A08</td>\n",
              "      <td>41593</td>\n",
              "      <td>0.839265</td>\n",
              "    </tr>\n",
              "  </tbody>\n",
              "</table>\n",
              "</div>"
            ],
            "text/plain": [
              "  Paradas  count   percent\n",
              "0  603A08  47571  0.959889\n",
              "1  663A08  46554  0.939368\n",
              "2  210A08  43496  0.877664\n",
              "3  367A02  43016  0.867978\n",
              "4  160A08  41593  0.839265"
            ]
          },
          "metadata": {
            "tags": []
          },
          "execution_count": 30
        }
      ]
    },
    {
      "cell_type": "code",
      "metadata": {
        "colab": {
          "base_uri": "https://localhost:8080/",
          "height": 203
        },
        "id": "OBpzOqJ4yAhB",
        "outputId": "731d7770-c2fd-41f5-d1ca-51e1043404a4"
      },
      "source": [
        "result = search_df(df_locations, count_paradas[\"Paradas\"], 'Cenefa Paradero')\n",
        "result.head(5)"
      ],
      "id": "OBpzOqJ4yAhB",
      "execution_count": null,
      "outputs": [
        {
          "output_type": "execute_result",
          "data": {
            "text/html": [
              "<div>\n",
              "<style scoped>\n",
              "    .dataframe tbody tr th:only-of-type {\n",
              "        vertical-align: middle;\n",
              "    }\n",
              "\n",
              "    .dataframe tbody tr th {\n",
              "        vertical-align: top;\n",
              "    }\n",
              "\n",
              "    .dataframe thead th {\n",
              "        text-align: right;\n",
              "    }\n",
              "</style>\n",
              "<table border=\"1\" class=\"dataframe\">\n",
              "  <thead>\n",
              "    <tr style=\"text-align: right;\">\n",
              "      <th></th>\n",
              "      <th>Ruta Comercial</th>\n",
              "      <th>Linea</th>\n",
              "      <th>Ruta SAE</th>\n",
              "      <th>Posicion</th>\n",
              "      <th>Nodo</th>\n",
              "      <th>PosX</th>\n",
              "      <th>PosY</th>\n",
              "      <th>Cenefa Paradero</th>\n",
              "      <th>geopoint</th>\n",
              "    </tr>\n",
              "  </thead>\n",
              "  <tbody>\n",
              "    <tr>\n",
              "      <th>5</th>\n",
              "      <td>P7</td>\n",
              "      <td>605</td>\n",
              "      <td>1549</td>\n",
              "      <td>4438</td>\n",
              "      <td>37057</td>\n",
              "      <td>590023.7248</td>\n",
              "      <td>510377.5628</td>\n",
              "      <td>546A09</td>\n",
              "      <td>4.61698132876,-74.1883903229</td>\n",
              "    </tr>\n",
              "    <tr>\n",
              "      <th>6</th>\n",
              "      <td>P7</td>\n",
              "      <td>605</td>\n",
              "      <td>1549</td>\n",
              "      <td>5063</td>\n",
              "      <td>3378</td>\n",
              "      <td>590228.9064</td>\n",
              "      <td>509818.6192</td>\n",
              "      <td>043A09</td>\n",
              "      <td>4.61192311349,-74.1865463879</td>\n",
              "    </tr>\n",
              "    <tr>\n",
              "      <th>7</th>\n",
              "      <td>14-4</td>\n",
              "      <td>602</td>\n",
              "      <td>1542</td>\n",
              "      <td>4323</td>\n",
              "      <td>40822</td>\n",
              "      <td>603006.5531</td>\n",
              "      <td>506700.9441</td>\n",
              "      <td>301A13</td>\n",
              "      <td>4.5835807822,-74.071396336</td>\n",
              "    </tr>\n",
              "    <tr>\n",
              "      <th>8</th>\n",
              "      <td>P7</td>\n",
              "      <td>605</td>\n",
              "      <td>1548</td>\n",
              "      <td>6094</td>\n",
              "      <td>39856</td>\n",
              "      <td>600441.1109</td>\n",
              "      <td>504680.6147</td>\n",
              "      <td>025A13</td>\n",
              "      <td>4.56533537732,-74.0945447675</td>\n",
              "    </tr>\n",
              "    <tr>\n",
              "      <th>9</th>\n",
              "      <td>P7</td>\n",
              "      <td>605</td>\n",
              "      <td>1548</td>\n",
              "      <td>9455</td>\n",
              "      <td>19110</td>\n",
              "      <td>599012.5878</td>\n",
              "      <td>507122.9098</td>\n",
              "      <td>108A11</td>\n",
              "      <td>4.58744361558,-74.107394169</td>\n",
              "    </tr>\n",
              "  </tbody>\n",
              "</table>\n",
              "</div>"
            ],
            "text/plain": [
              "  Ruta Comercial  Linea  ...  Cenefa Paradero                      geopoint\n",
              "5             P7    605  ...           546A09  4.61698132876,-74.1883903229\n",
              "6             P7    605  ...           043A09  4.61192311349,-74.1865463879\n",
              "7           14-4    602  ...           301A13    4.5835807822,-74.071396336\n",
              "8             P7    605  ...           025A13  4.56533537732,-74.0945447675\n",
              "9             P7    605  ...           108A11   4.58744361558,-74.107394169\n",
              "\n",
              "[5 rows x 9 columns]"
            ]
          },
          "metadata": {
            "tags": []
          },
          "execution_count": 32
        }
      ]
    },
    {
      "cell_type": "code",
      "metadata": {
        "colab": {
          "base_uri": "https://localhost:8080/",
          "height": 417
        },
        "id": "SfGhJcJ8xuil",
        "outputId": "fb1f663c-42a7-4cc0-ae52-77a26b5e324f"
      },
      "source": [
        "res = count_columns(result, 'Cenefa Paradero')\n",
        "res.reset_index(level=0, inplace=True)\n",
        "res.rename(columns={\"index\":\"Cenefa Paradero\"}, inplace=True)\n",
        "res"
      ],
      "id": "SfGhJcJ8xuil",
      "execution_count": null,
      "outputs": [
        {
          "output_type": "execute_result",
          "data": {
            "text/html": [
              "<div>\n",
              "<style scoped>\n",
              "    .dataframe tbody tr th:only-of-type {\n",
              "        vertical-align: middle;\n",
              "    }\n",
              "\n",
              "    .dataframe tbody tr th {\n",
              "        vertical-align: top;\n",
              "    }\n",
              "\n",
              "    .dataframe thead th {\n",
              "        text-align: right;\n",
              "    }\n",
              "</style>\n",
              "<table border=\"1\" class=\"dataframe\">\n",
              "  <thead>\n",
              "    <tr style=\"text-align: right;\">\n",
              "      <th></th>\n",
              "      <th>Cenefa Paradero</th>\n",
              "      <th>count</th>\n",
              "      <th>percent</th>\n",
              "    </tr>\n",
              "  </thead>\n",
              "  <tbody>\n",
              "    <tr>\n",
              "      <th>0</th>\n",
              "      <td>122A01</td>\n",
              "      <td>48</td>\n",
              "      <td>0.169163</td>\n",
              "    </tr>\n",
              "    <tr>\n",
              "      <th>1</th>\n",
              "      <td>242A01</td>\n",
              "      <td>47</td>\n",
              "      <td>0.165639</td>\n",
              "    </tr>\n",
              "    <tr>\n",
              "      <th>2</th>\n",
              "      <td>569A09</td>\n",
              "      <td>40</td>\n",
              "      <td>0.140969</td>\n",
              "    </tr>\n",
              "    <tr>\n",
              "      <th>3</th>\n",
              "      <td>245A01</td>\n",
              "      <td>38</td>\n",
              "      <td>0.133921</td>\n",
              "    </tr>\n",
              "    <tr>\n",
              "      <th>4</th>\n",
              "      <td>051A09</td>\n",
              "      <td>38</td>\n",
              "      <td>0.133921</td>\n",
              "    </tr>\n",
              "    <tr>\n",
              "      <th>...</th>\n",
              "      <td>...</td>\n",
              "      <td>...</td>\n",
              "      <td>...</td>\n",
              "    </tr>\n",
              "    <tr>\n",
              "      <th>2853</th>\n",
              "      <td>195A02</td>\n",
              "      <td>1</td>\n",
              "      <td>0.003524</td>\n",
              "    </tr>\n",
              "    <tr>\n",
              "      <th>2854</th>\n",
              "      <td>030A09</td>\n",
              "      <td>1</td>\n",
              "      <td>0.003524</td>\n",
              "    </tr>\n",
              "    <tr>\n",
              "      <th>2855</th>\n",
              "      <td>304A02</td>\n",
              "      <td>1</td>\n",
              "      <td>0.003524</td>\n",
              "    </tr>\n",
              "    <tr>\n",
              "      <th>2856</th>\n",
              "      <td>334A12</td>\n",
              "      <td>1</td>\n",
              "      <td>0.003524</td>\n",
              "    </tr>\n",
              "    <tr>\n",
              "      <th>2857</th>\n",
              "      <td>172A13</td>\n",
              "      <td>1</td>\n",
              "      <td>0.003524</td>\n",
              "    </tr>\n",
              "  </tbody>\n",
              "</table>\n",
              "<p>2858 rows × 3 columns</p>\n",
              "</div>"
            ],
            "text/plain": [
              "     Cenefa Paradero  count   percent\n",
              "0             122A01     48  0.169163\n",
              "1             242A01     47  0.165639\n",
              "2             569A09     40  0.140969\n",
              "3             245A01     38  0.133921\n",
              "4             051A09     38  0.133921\n",
              "...              ...    ...       ...\n",
              "2853          195A02      1  0.003524\n",
              "2854          030A09      1  0.003524\n",
              "2855          304A02      1  0.003524\n",
              "2856          334A12      1  0.003524\n",
              "2857          172A13      1  0.003524\n",
              "\n",
              "[2858 rows x 3 columns]"
            ]
          },
          "metadata": {
            "tags": []
          },
          "execution_count": 33
        }
      ]
    },
    {
      "cell_type": "markdown",
      "metadata": {
        "id": "uuN6simNyDJL"
      },
      "source": [
        "### Assign geographical points\n"
      ],
      "id": "uuN6simNyDJL"
    },
    {
      "cell_type": "code",
      "metadata": {
        "id": "yZt4y-S3yFJJ"
      },
      "source": [
        "df_res = assing_points(res, result)"
      ],
      "id": "yZt4y-S3yFJJ",
      "execution_count": null,
      "outputs": []
    },
    {
      "cell_type": "code",
      "metadata": {
        "id": "K3sATca6yGGi"
      },
      "source": [
        "# extract geopoint as lat, lon and convert type to float \n",
        "\n",
        "df_res[['lat', 'lon']] = df_res['geopoint'].str.split(',', 1, expand=True)\n",
        "\n",
        "def convert_cols(df, cols):\n",
        "    \"\"\"Convert list of given columns in dataframe to float type\"\"\"\n",
        "    for col in cols:\n",
        "        df[col] = df[col].astype(float)\n",
        "    return df\n",
        "\n",
        "def convert_cols_int(df, cols):\n",
        "    \"\"\"Convert list of given columns in dataframe to float type\"\"\"\n",
        "    for col in cols:\n",
        "        df[col] = df[col].astype(int)\n",
        "    return df\n",
        "\n",
        "\n",
        "df_res = convert_cols(df_res, [\"lat\", \"lon\"])\n",
        "df_res = convert_cols_int(df_res,[ \"PosX\",\"PosY\"])"
      ],
      "id": "K3sATca6yGGi",
      "execution_count": null,
      "outputs": []
    },
    {
      "cell_type": "code",
      "metadata": {
        "colab": {
          "base_uri": "https://localhost:8080/",
          "height": 203
        },
        "id": "izgW83gNyJb4",
        "outputId": "5048dc81-6a90-4b61-e40f-a7c3f42539ec"
      },
      "source": [
        "df_res.head(5)"
      ],
      "id": "izgW83gNyJb4",
      "execution_count": null,
      "outputs": [
        {
          "output_type": "execute_result",
          "data": {
            "text/html": [
              "<div>\n",
              "<style scoped>\n",
              "    .dataframe tbody tr th:only-of-type {\n",
              "        vertical-align: middle;\n",
              "    }\n",
              "\n",
              "    .dataframe tbody tr th {\n",
              "        vertical-align: top;\n",
              "    }\n",
              "\n",
              "    .dataframe thead th {\n",
              "        text-align: right;\n",
              "    }\n",
              "</style>\n",
              "<table border=\"1\" class=\"dataframe\">\n",
              "  <thead>\n",
              "    <tr style=\"text-align: right;\">\n",
              "      <th></th>\n",
              "      <th>Cenefa Paradero</th>\n",
              "      <th>count</th>\n",
              "      <th>percent</th>\n",
              "      <th>PosX</th>\n",
              "      <th>PosY</th>\n",
              "      <th>geopoint</th>\n",
              "      <th>lat</th>\n",
              "      <th>lon</th>\n",
              "    </tr>\n",
              "  </thead>\n",
              "  <tbody>\n",
              "    <tr>\n",
              "      <th>0</th>\n",
              "      <td>122A01</td>\n",
              "      <td>48</td>\n",
              "      <td>0.169163</td>\n",
              "      <td>604826</td>\n",
              "      <td>518093</td>\n",
              "      <td>4.68661295173,-74.0548531696</td>\n",
              "      <td>4.686613</td>\n",
              "      <td>-74.054853</td>\n",
              "    </tr>\n",
              "    <tr>\n",
              "      <th>1</th>\n",
              "      <td>242A01</td>\n",
              "      <td>47</td>\n",
              "      <td>0.165639</td>\n",
              "      <td>605035</td>\n",
              "      <td>518057</td>\n",
              "      <td>4.68628228436,-74.0529690031</td>\n",
              "      <td>4.686282</td>\n",
              "      <td>-74.052969</td>\n",
              "    </tr>\n",
              "    <tr>\n",
              "      <th>2</th>\n",
              "      <td>569A09</td>\n",
              "      <td>40</td>\n",
              "      <td>0.140969</td>\n",
              "      <td>591473</td>\n",
              "      <td>510022</td>\n",
              "      <td>4.6137504568,-74.1753260687</td>\n",
              "      <td>4.613750</td>\n",
              "      <td>-74.175326</td>\n",
              "    </tr>\n",
              "    <tr>\n",
              "      <th>3</th>\n",
              "      <td>245A01</td>\n",
              "      <td>38</td>\n",
              "      <td>0.133921</td>\n",
              "      <td>607644</td>\n",
              "      <td>520916</td>\n",
              "      <td>4.71210862705,-74.0294100702</td>\n",
              "      <td>4.712109</td>\n",
              "      <td>-74.029410</td>\n",
              "    </tr>\n",
              "    <tr>\n",
              "      <th>4</th>\n",
              "      <td>051A09</td>\n",
              "      <td>38</td>\n",
              "      <td>0.133921</td>\n",
              "      <td>590525</td>\n",
              "      <td>509369</td>\n",
              "      <td>4.60785994981,-74.1838748347</td>\n",
              "      <td>4.607860</td>\n",
              "      <td>-74.183875</td>\n",
              "    </tr>\n",
              "  </tbody>\n",
              "</table>\n",
              "</div>"
            ],
            "text/plain": [
              "  Cenefa Paradero  count  ...       lat        lon\n",
              "0          122A01     48  ...  4.686613 -74.054853\n",
              "1          242A01     47  ...  4.686282 -74.052969\n",
              "2          569A09     40  ...  4.613750 -74.175326\n",
              "3          245A01     38  ...  4.712109 -74.029410\n",
              "4          051A09     38  ...  4.607860 -74.183875\n",
              "\n",
              "[5 rows x 8 columns]"
            ]
          },
          "metadata": {
            "tags": []
          },
          "execution_count": 41
        }
      ]
    },
    {
      "cell_type": "code",
      "metadata": {
        "colab": {
          "base_uri": "https://localhost:8080/",
          "height": 203
        },
        "id": "xtVRyYucyLNb",
        "outputId": "475ca3c0-51b8-41c4-dd10-aa9688364f81"
      },
      "source": [
        "\n",
        "new_df = df_res.loc[df_res.index.repeat(df_res['count'])].assign(fifo_qty=1).reset_index(drop=True)\n",
        "new_df.head(5)"
      ],
      "id": "xtVRyYucyLNb",
      "execution_count": null,
      "outputs": [
        {
          "output_type": "execute_result",
          "data": {
            "text/html": [
              "<div>\n",
              "<style scoped>\n",
              "    .dataframe tbody tr th:only-of-type {\n",
              "        vertical-align: middle;\n",
              "    }\n",
              "\n",
              "    .dataframe tbody tr th {\n",
              "        vertical-align: top;\n",
              "    }\n",
              "\n",
              "    .dataframe thead th {\n",
              "        text-align: right;\n",
              "    }\n",
              "</style>\n",
              "<table border=\"1\" class=\"dataframe\">\n",
              "  <thead>\n",
              "    <tr style=\"text-align: right;\">\n",
              "      <th></th>\n",
              "      <th>Cenefa Paradero</th>\n",
              "      <th>count</th>\n",
              "      <th>percent</th>\n",
              "      <th>PosX</th>\n",
              "      <th>PosY</th>\n",
              "      <th>geopoint</th>\n",
              "      <th>lat</th>\n",
              "      <th>lon</th>\n",
              "      <th>fifo_qty</th>\n",
              "    </tr>\n",
              "  </thead>\n",
              "  <tbody>\n",
              "    <tr>\n",
              "      <th>0</th>\n",
              "      <td>122A01</td>\n",
              "      <td>48</td>\n",
              "      <td>0.169163</td>\n",
              "      <td>604826</td>\n",
              "      <td>518093</td>\n",
              "      <td>4.68661295173,-74.0548531696</td>\n",
              "      <td>4.686613</td>\n",
              "      <td>-74.054853</td>\n",
              "      <td>1</td>\n",
              "    </tr>\n",
              "    <tr>\n",
              "      <th>1</th>\n",
              "      <td>122A01</td>\n",
              "      <td>48</td>\n",
              "      <td>0.169163</td>\n",
              "      <td>604826</td>\n",
              "      <td>518093</td>\n",
              "      <td>4.68661295173,-74.0548531696</td>\n",
              "      <td>4.686613</td>\n",
              "      <td>-74.054853</td>\n",
              "      <td>1</td>\n",
              "    </tr>\n",
              "    <tr>\n",
              "      <th>2</th>\n",
              "      <td>122A01</td>\n",
              "      <td>48</td>\n",
              "      <td>0.169163</td>\n",
              "      <td>604826</td>\n",
              "      <td>518093</td>\n",
              "      <td>4.68661295173,-74.0548531696</td>\n",
              "      <td>4.686613</td>\n",
              "      <td>-74.054853</td>\n",
              "      <td>1</td>\n",
              "    </tr>\n",
              "    <tr>\n",
              "      <th>3</th>\n",
              "      <td>122A01</td>\n",
              "      <td>48</td>\n",
              "      <td>0.169163</td>\n",
              "      <td>604826</td>\n",
              "      <td>518093</td>\n",
              "      <td>4.68661295173,-74.0548531696</td>\n",
              "      <td>4.686613</td>\n",
              "      <td>-74.054853</td>\n",
              "      <td>1</td>\n",
              "    </tr>\n",
              "    <tr>\n",
              "      <th>4</th>\n",
              "      <td>122A01</td>\n",
              "      <td>48</td>\n",
              "      <td>0.169163</td>\n",
              "      <td>604826</td>\n",
              "      <td>518093</td>\n",
              "      <td>4.68661295173,-74.0548531696</td>\n",
              "      <td>4.686613</td>\n",
              "      <td>-74.054853</td>\n",
              "      <td>1</td>\n",
              "    </tr>\n",
              "  </tbody>\n",
              "</table>\n",
              "</div>"
            ],
            "text/plain": [
              "  Cenefa Paradero  count   percent  ...       lat        lon fifo_qty\n",
              "0          122A01     48  0.169163  ...  4.686613 -74.054853        1\n",
              "1          122A01     48  0.169163  ...  4.686613 -74.054853        1\n",
              "2          122A01     48  0.169163  ...  4.686613 -74.054853        1\n",
              "3          122A01     48  0.169163  ...  4.686613 -74.054853        1\n",
              "4          122A01     48  0.169163  ...  4.686613 -74.054853        1\n",
              "\n",
              "[5 rows x 9 columns]"
            ]
          },
          "metadata": {
            "tags": []
          },
          "execution_count": 42
        }
      ]
    },
    {
      "cell_type": "code",
      "metadata": {
        "id": "XuN_elYtyLig"
      },
      "source": [
        "import folium\n",
        "from folium import plugins\n",
        "m = folium.Map([4.68661295173,-74.0548531696], zoom_start=12)\n"
      ],
      "id": "XuN_elYtyLig",
      "execution_count": null,
      "outputs": []
    },
    {
      "cell_type": "code",
      "metadata": {
        "id": "feCEqvDkyNfs"
      },
      "source": [
        "for index, row in new_df.iterrows():\n",
        "    folium.CircleMarker([row['lat'], row['lon']],\n",
        "                        radius=0.05,\n",
        "                        popup=row['Cenefa Paradero'],\n",
        "                        fill_color=\"#3db7e4\", # divvy color\n",
        "                       ).add_to(m)"
      ],
      "id": "feCEqvDkyNfs",
      "execution_count": null,
      "outputs": []
    },
    {
      "cell_type": "markdown",
      "metadata": {
        "id": "Y3TnQQLuyaW8"
      },
      "source": [
        "### Plot heat map"
      ],
      "id": "Y3TnQQLuyaW8"
    },
    {
      "cell_type": "code",
      "metadata": {
        "id": "9kvspLriycq4"
      },
      "source": [
        "paraderosArr = new_df[['lat', 'lon']].values\n",
        "\n",
        "# plot heatmap\n",
        "m.add_child(plugins.HeatMap(paraderosArr, radius=15))\n",
        "m"
      ],
      "id": "9kvspLriycq4",
      "execution_count": null,
      "outputs": []
    },
    {
      "cell_type": "markdown",
      "metadata": {
        "id": "O7Am64fDuA1H"
      },
      "source": [
        "# Merging Activity and Validation tables with geospatial information"
      ],
      "id": "O7Am64fDuA1H"
    },
    {
      "cell_type": "code",
      "metadata": {
        "id": "UQIa97qvxGwX"
      },
      "source": [
        "# Load dataset of nodes\n",
        "par_val = pd.read_csv(filepath_or_buffer=r'C:/Users/juanc/OneDrive/Escritorio/DS4A/Activity/par_val2.csv')"
      ],
      "id": "UQIa97qvxGwX",
      "execution_count": null,
      "outputs": []
    },
    {
      "cell_type": "code",
      "metadata": {
        "id": "UN91yjyIx0H1"
      },
      "source": [
        "# Load dataset of nodes and lines with their assigned cluster and latitude and longitude values\n",
        "clt = pd.read_csv(filepath_or_buffer=r'C:/Users/juanc/OneDrive/Escritorio/DS4A/Activity/clusters5.csv')"
      ],
      "id": "UN91yjyIx0H1",
      "execution_count": null,
      "outputs": []
    },
    {
      "cell_type": "code",
      "metadata": {
        "id": "BweZ1DyZx-f2"
      },
      "source": [
        "# Cast all CENEFAS (node public names) as Uppercase and drop NaN values and duplicates\n",
        "par_val['CENEFA'] = par_val['CENEFA'].str.upper()\n",
        "pv2 = par_val[par_val['CENEFA'].notna()]\n",
        "pv2 = pv2.drop(columns=['Unnamed: 0', 'Linea'])\n",
        "pv2 = pv2.drop_duplicates()"
      ],
      "id": "BweZ1DyZx-f2",
      "execution_count": null,
      "outputs": []
    },
    {
      "cell_type": "code",
      "metadata": {
        "id": "4ZinTY1rykff"
      },
      "source": [
        "# Merge the valid cenefas with the nodes on the activity tables\n",
        "act_cen = activity.merge(pv2, how='left',on=['Nodo'])\n",
        "act_cen = act_cen[act_cen['CENEFA'].notna()]"
      ],
      "id": "4ZinTY1rykff",
      "execution_count": null,
      "outputs": []
    },
    {
      "cell_type": "code",
      "metadata": {
        "id": "zxnkq_mD0hWK"
      },
      "source": [
        "# Drop columns created on merge\n",
        "activity = activity.drop(columns=['Unnamed: 0', 'Unnamed: 0.1'])\n",
        "act_cen = act_cen.drop(columns=['Unnamed: 0', 'Unnamed: 0.1'])"
      ],
      "id": "zxnkq_mD0hWK",
      "execution_count": null,
      "outputs": []
    },
    {
      "cell_type": "code",
      "metadata": {
        "id": "GOlsYVWN0sFO"
      },
      "source": [
        "# Cast all CENEFAS (node public names) as Uppercase and filter only relevant fields\n",
        "clt['CENEFA'] = clt['CENEFA'].str.upper()\n",
        "clt = clt[['CENEFA', 'Longitud', 'Latitud', 'cluster']]"
      ],
      "id": "GOlsYVWN0sFO",
      "execution_count": null,
      "outputs": []
    },
    {
      "cell_type": "code",
      "metadata": {
        "id": "x1QR3B_H00x0"
      },
      "source": [
        "# Merge the valid cenefas on the activity table to add their latitude and longitue\n",
        "act = act_cen.merge(clt, how='left', on=['CENEFA'])"
      ],
      "id": "x1QR3B_H00x0",
      "execution_count": null,
      "outputs": []
    }
  ]
}